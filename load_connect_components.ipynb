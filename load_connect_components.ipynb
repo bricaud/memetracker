{
 "cells": [
  {
   "cell_type": "markdown",
   "metadata": {},
   "source": [
    "# Load components from file and connect them together if they share some words"
   ]
  },
  {
   "cell_type": "code",
   "execution_count": 1,
   "metadata": {
    "collapsed": true
   },
   "outputs": [],
   "source": [
    "import pandas as pd"
   ]
  },
  {
   "cell_type": "code",
   "execution_count": 63,
   "metadata": {
    "collapsed": true
   },
   "outputs": [],
   "source": [
    "import configparser\n",
    "config = configparser.ConfigParser()\n",
    "config.read('memeconfig.ini')\n",
    "data_path = config['DEFAULT']['data_path']\n",
    "pickle_data_path = config['DEFAULT']['pickle_data_path']\n",
    "viz_path = config['DEFAULT']['viz_data_path']\n",
    "series_name = 'baron_noir'"
   ]
  },
  {
   "cell_type": "code",
   "execution_count": 32,
   "metadata": {
    "collapsed": true
   },
   "outputs": [],
   "source": [
    "import numpy as np\n",
    "import networkx as nx"
   ]
  },
  {
   "cell_type": "code",
   "execution_count": 67,
   "metadata": {
    "collapsed": false
   },
   "outputs": [],
   "source": [
    "def load_graph(filename):\n",
    "    \"\"\" Load a graph from a json file.\n",
    "    \"\"\"\n",
    "    from networkx.readwrite import json_graph\n",
    "    import json\n",
    "    with open(filename, \"r\") as f:\n",
    "        data = json.load(f)\n",
    "    # create a dic to translate ids to numbers for networkx\n",
    "    dic_t = {}\n",
    "    for idx,key in enumerate(data['nodes']):\n",
    "        dic_t[key['id']] = idx\n",
    "    # associate numbers to ids in links\n",
    "    data['links'] = [\n",
    "                {\n",
    "                    'source': dic_t[link['source']],\n",
    "                    'target': dic_t[link['target']]\n",
    "                }\n",
    "                for link in data['links']]\n",
    "    H = json_graph.node_link_graph(data,directed=True,multigraph=False)\n",
    "    return H"
   ]
  },
  {
   "cell_type": "code",
   "execution_count": 177,
   "metadata": {
    "collapsed": false
   },
   "outputs": [
    {
     "name": "stdout",
     "output_type": "stream",
     "text": [
      "nb of cc: 14\n",
      "nb of cc: 65\n",
      "nb of cc: 46\n",
      "nb of cc: 9\n",
      "nb of cc: 9\n"
     ]
    }
   ],
   "source": [
    "# Extract components\n",
    "graph_list = []\n",
    "year = 2016\n",
    "for month in range(1,6):\n",
    "    json_filename = 'cc_'+series_name+'_'+str(year)+'_'+str(month)+'.json'\n",
    "    filename = viz_path + json_filename\n",
    "    G = load_graph(filename)\n",
    "    #print(G.size())\n",
    "    list_cc = [cc for cc in nx.weakly_connected_component_subgraphs(G)]\n",
    "    print('nb of cc: {}'.format(len(list_cc)))\n",
    "    [graph_list.append(cc) for cc in list_cc]"
   ]
  },
  {
   "cell_type": "code",
   "execution_count": 205,
   "metadata": {
    "collapsed": false
   },
   "outputs": [
    {
     "name": "stdout",
     "output_type": "stream",
     "text": [
      "18 Valls\n",
      "21 Valls\n",
      "22 Khomri\n",
      "24 Khomri\n",
      "31 Dray\n",
      "33 Hollande\n",
      "35 Hollande\n",
      "79 Dray\n",
      "80 Hollande\n",
      "82 travail\n",
      "86 El-Khomri\n",
      "88 El-Khomri\n",
      "90 Dray\n",
      "126 Valls\n",
      "127 Valls\n",
      "129 Dray\n"
     ]
    }
   ],
   "source": [
    "# Select the components\n",
    "selected_graphs = []\n",
    "keywords = ['El-Khomri','Khomri','travail','Hollande','Valls','Dray']\n",
    "for idx,HH in enumerate(graph_list):\n",
    "    double=0\n",
    "    for node,data in HH.nodes(data=True):\n",
    "        if data['name'] in keywords and double==0 and HH.size()>3:\n",
    "            print(idx,data['name'])\n",
    "            selected_graphs.append(HH)\n",
    "            double=1"
   ]
  },
  {
   "cell_type": "code",
   "execution_count": 190,
   "metadata": {
    "collapsed": true
   },
   "outputs": [],
   "source": [
    "# Get the start date of a component\n",
    "def cc_time(G):\n",
    "    import datetime\n",
    "    date_list = [data['start_time'] for node,data in G.nodes(data=True)]\n",
    "    date_list = [datetime.datetime.strptime(x, '%d-%m-%Y') for x in date_list]\n",
    "    #date_list = sorted(date_list, key=lambda x: datetime.datetime.strptime(x, '%d-%m-%Y'))\n",
    "    date_list.sort()\n",
    "    return date_list[0]"
   ]
  },
  {
   "cell_type": "code",
   "execution_count": 191,
   "metadata": {
    "collapsed": true
   },
   "outputs": [],
   "source": [
    "# sort the components per date\n",
    "sorted_selectedg = sorted(selected_graphs, key=cc_time)"
   ]
  },
  {
   "cell_type": "code",
   "execution_count": 192,
   "metadata": {
    "collapsed": false
   },
   "outputs": [
    {
     "name": "stdout",
     "output_type": "stream",
     "text": [
      "2016-02-08 00:00:00 566\n",
      "2016-02-09 00:00:00 85\n",
      "2016-02-12 00:00:00 8\n",
      "2016-02-19 00:00:00 16\n",
      "2016-02-21 00:00:00 16\n",
      "2016-02-24 00:00:00 46\n",
      "2016-02-29 00:00:00 137\n",
      "2016-03-01 00:00:00 92\n",
      "2016-03-03 00:00:00 444\n",
      "2016-03-04 00:00:00 95\n",
      "2016-03-06 00:00:00 7\n",
      "2016-03-08 00:00:00 7\n",
      "2016-03-17 00:00:00 11\n",
      "2016-04-10 00:00:00 12\n",
      "2016-04-11 00:00:00 20\n",
      "2016-04-12 00:00:00 7\n"
     ]
    }
   ],
   "source": [
    "# Check the result\n",
    "for gg in sorted_selectedg:\n",
    "    print(cc_time(gg),gg.size())"
   ]
  },
  {
   "cell_type": "code",
   "execution_count": 193,
   "metadata": {
    "collapsed": true
   },
   "outputs": [],
   "source": [
    "import datetime"
   ]
  },
  {
   "cell_type": "code",
   "execution_count": 194,
   "metadata": {
    "collapsed": false
   },
   "outputs": [],
   "source": [
    "# Give a time stamp and connect cc if they have same node names\n",
    "edge_list = []\n",
    "start_date = cc_time(sorted_selectedg[0])\n",
    "date_len = cc_time(sorted_selectedg[-1])-cc_time(sorted_selectedg[0])\n",
    "for  idx,cc in enumerate(sorted_selectedg):\n",
    "    datediff = cc_time(cc)-start_date\n",
    "    datediff_norm = datediff.days/date_len.days\n",
    "    nx.set_node_attributes(cc, 'time_loc', datediff_norm)\n",
    "    if idx+1<len(sorted_selectedg):\n",
    "        cc_next = sorted_selectedg[idx+1]\n",
    "        for node1,data1 in cc.nodes(data=True):\n",
    "            for node2,data2 in cc_next.nodes(data=True):\n",
    "                if data1['name']==data2['name']:\n",
    "                    if not node1==node2: # in case there is a component twice \n",
    "                        edge_list.append((node1,node2))  "
   ]
  },
  {
   "cell_type": "code",
   "execution_count": 196,
   "metadata": {
    "collapsed": false
   },
   "outputs": [],
   "source": [
    "# Add all the components in a big graph\n",
    "G_all = nx.DiGraph()\n",
    "for comp_cc in sorted_selectedg:\n",
    "    G_all = nx.compose(G_all,comp_cc)"
   ]
  },
  {
   "cell_type": "code",
   "execution_count": 197,
   "metadata": {
    "collapsed": false
   },
   "outputs": [
    {
     "data": {
      "text/plain": [
       "{'color': 0.2474820143884892,\n",
       " 'color_rel': 0,\n",
       " 'color_rel_full': 0.0,\n",
       " 'component_id': 'I0Jhcm9uTm9pcl8yMDE2LTAyLTA4LTA2',\n",
       " 'name': 'Baron',\n",
       " 'nb_occur': 23,\n",
       " 'start_time': '08-02-2016',\n",
       " 'time_loc': 0.0}"
      ]
     },
     "execution_count": 197,
     "metadata": {},
     "output_type": "execute_result"
    }
   ],
   "source": [
    "G_all.node['Baron_08-02-2016_I0Jhcm9uTm9pcl8yMDE2LTAyLTA4LTA2']"
   ]
  },
  {
   "cell_type": "code",
   "execution_count": 198,
   "metadata": {
    "collapsed": true
   },
   "outputs": [],
   "source": [
    "G_all.add_edges_from(edge_list)"
   ]
  },
  {
   "cell_type": "code",
   "execution_count": 199,
   "metadata": {
    "collapsed": false
   },
   "outputs": [
    {
     "data": {
      "text/plain": [
       "'2016-02-08'"
      ]
     },
     "execution_count": 199,
     "metadata": {},
     "output_type": "execute_result"
    }
   ],
   "source": [
    "str(cc_time(sorted_selectedg[0]).date())"
   ]
  },
  {
   "cell_type": "code",
   "execution_count": 200,
   "metadata": {
    "collapsed": false
   },
   "outputs": [],
   "source": [
    "# Save the data\n",
    "G_all.graph['series_name'] = series_name\n",
    "G_all.graph['start_date'] = str(cc_time(sorted_selectedg[0]).date())\n",
    "G_all.graph['end_date'] = str(cc_time(sorted_selectedg[-1]).date())\n",
    "import memebox.multilayergraph as mlg\n",
    "jsonfile = 'viz/cc_evolution.json'\n",
    "mlg.save_graph(G_all,jsonfile)"
   ]
  },
  {
   "cell_type": "code",
   "execution_count": 173,
   "metadata": {
    "collapsed": false
   },
   "outputs": [
    {
     "data": {
      "text/plain": [
       "{'date_delta': 'hour',\n",
       " 'end_date': '2016-04-12',\n",
       " 'name': '()',\n",
       " 'series_name': 'baron_noir',\n",
       " 'start_date': '2016-02-08',\n",
       " 'threshold': '3'}"
      ]
     },
     "execution_count": 173,
     "metadata": {},
     "output_type": "execute_result"
    }
   ],
   "source": [
    "G_all.graph"
   ]
  },
  {
   "cell_type": "code",
   "execution_count": null,
   "metadata": {
    "collapsed": true
   },
   "outputs": [],
   "source": []
  }
 ],
 "metadata": {
  "kernelspec": {
   "display_name": "Python 3",
   "language": "python",
   "name": "python3"
  },
  "language_info": {
   "codemirror_mode": {
    "name": "ipython",
    "version": 3
   },
   "file_extension": ".py",
   "mimetype": "text/x-python",
   "name": "python",
   "nbconvert_exporter": "python",
   "pygments_lexer": "ipython3",
   "version": "3.5.2"
  }
 },
 "nbformat": 4,
 "nbformat_minor": 2
}
