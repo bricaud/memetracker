{
 "cells": [
  {
   "cell_type": "markdown",
   "metadata": {},
   "source": [
    "## Meme tracker preprocessing\n",
    "\n",
    "Load all the files for each series and merge them to make a single file per series."
   ]
  },
  {
   "cell_type": "code",
   "execution_count": 1,
   "metadata": {
    "collapsed": true
   },
   "outputs": [],
   "source": [
    "import pandas as pd"
   ]
  },
  {
   "cell_type": "code",
   "execution_count": 2,
   "metadata": {
    "collapsed": true
   },
   "outputs": [],
   "source": [
    "input_path = '/home/benjamin/Téléchargements/'\n",
    "output_path = '/home/benjamin/Documents/memetracker/Data/csv/'"
   ]
  },
  {
   "cell_type": "code",
   "execution_count": 3,
   "metadata": {
    "collapsed": false
   },
   "outputs": [],
   "source": [
    "def process_data(files,export_file):\n",
    "    df= pd.DataFrame()\n",
    "    for file in recorded_files:\n",
    "        print('Loading '+file)\n",
    "        csv_data = pd.read_csv(file,sep=';')\n",
    "        df = df.append(csv_data, ignore_index=True,verify_integrity=True)\n",
    "    print('Sorting by date')\n",
    "    df['date'] = pd.to_datetime(df['date'],infer_datetime_format=True)#format=\"%d/%m/%Y\")\n",
    "    df = df.sort_values('date')\n",
    "    df.to_csv(export_file,sep=';', index=False, date_format = \"%d/%m/%Y %H:%M:%S\", quoting=2)\n",
    "    print('Data exported to '+export_file)\n",
    "    print('Number of entries: '+ str(df.shape[0]))"
   ]
  },
  {
   "cell_type": "markdown",
   "metadata": {},
   "source": [
    "### Baron noir"
   ]
  },
  {
   "cell_type": "code",
   "execution_count": 4,
   "metadata": {
    "collapsed": false
   },
   "outputs": [
    {
     "name": "stdout",
     "output_type": "stream",
     "text": [
      "Loading /home/benjamin/Téléchargements/baronnoir2015.csv\n",
      "Loading /home/benjamin/Téléchargements/baronnoir0101-14022016.csv\n",
      "Loading /home/benjamin/Téléchargements/baronnoir1502-29022016.csv\n",
      "Loading /home/benjamin/Téléchargements/baronnoir03-042016.csv\n",
      "Loading /home/benjamin/Téléchargements/baronnoir05-102016.csv\n",
      "Sorting by date\n",
      "Data exported to /home/benjamin/Documents/memetracker/Data/csv/baron_noir.csv\n",
      "Number of entries: 29471\n"
     ]
    }
   ],
   "source": [
    "recorded_files = [input_path+'baronnoir2015.csv',\n",
    "                  input_path+'baronnoir0101-14022016.csv',\n",
    "                  input_path+'baronnoir1502-29022016.csv',\n",
    "                  input_path+'baronnoir03-042016.csv',\n",
    "                  input_path+'baronnoir05-102016.csv'\n",
    "              ]\n",
    "export_file = output_path+'baron_noir.csv'\n",
    "process_data(recorded_files,export_file)"
   ]
  },
  {
   "cell_type": "markdown",
   "metadata": {},
   "source": [
    "### Les Héritiers"
   ]
  },
  {
   "cell_type": "code",
   "execution_count": 5,
   "metadata": {
    "collapsed": false
   },
   "outputs": [
    {
     "name": "stdout",
     "output_type": "stream",
     "text": [
      "Loading /home/benjamin/Téléchargements/lesheritiers2016.csv\n",
      "Loading /home/benjamin/Téléchargements/lesheritiers2015.csv\n",
      "Sorting by date\n",
      "Data exported to /home/benjamin/Documents/memetracker/Data/csv/les_heritiers.csv\n",
      "Number of entries: 3620\n"
     ]
    }
   ],
   "source": [
    "recorded_files = [input_path+'lesheritiers2016.csv',\n",
    "                  input_path+'lesheritiers2015.csv']\n",
    "export_file = output_path+'les_heritiers.csv'\n",
    "process_data(recorded_files,export_file)"
   ]
  },
  {
   "cell_type": "markdown",
   "metadata": {},
   "source": [
    "### Bosch"
   ]
  },
  {
   "cell_type": "code",
   "execution_count": 6,
   "metadata": {
    "collapsed": false
   },
   "outputs": [
    {
     "name": "stdout",
     "output_type": "stream",
     "text": [
      "Loading /home/benjamin/Téléchargements/bosch2015.csv\n",
      "Loading /home/benjamin/Téléchargements/Bosch2016.csv\n",
      "Sorting by date\n",
      "Data exported to /home/benjamin/Documents/memetracker/Data/csv/bosch.csv\n",
      "Number of entries: 846\n"
     ]
    }
   ],
   "source": [
    "recorded_files = ['/home/benjamin/Téléchargements/bosch2015.csv',\n",
    "                  '/home/benjamin/Téléchargements/Bosch2016.csv']\n",
    "export_file = output_path+'bosch.csv'\n",
    "process_data(recorded_files,export_file)"
   ]
  },
  {
   "cell_type": "markdown",
   "metadata": {},
   "source": [
    "### Scorpion"
   ]
  },
  {
   "cell_type": "code",
   "execution_count": 7,
   "metadata": {
    "collapsed": false
   },
   "outputs": [
    {
     "name": "stdout",
     "output_type": "stream",
     "text": [
      "Loading /home/benjamin/Téléchargements/scorpion2016.csv\n",
      "Loading /home/benjamin/Téléchargements/scorpion2015.csv\n",
      "Sorting by date\n",
      "Data exported to /home/benjamin/Documents/memetracker/Data/csv/scorpion.csv\n",
      "Number of entries: 8470\n"
     ]
    }
   ],
   "source": [
    "recorded_files = ['/home/benjamin/Téléchargements/scorpion2016.csv',\n",
    "                  '/home/benjamin/Téléchargements/scorpion2015.csv']\n",
    "export_file = output_path+'scorpion.csv'\n",
    "process_data(recorded_files,export_file)"
   ]
  },
  {
   "cell_type": "markdown",
   "metadata": {},
   "source": [
    "### Spotless"
   ]
  },
  {
   "cell_type": "code",
   "execution_count": 8,
   "metadata": {
    "collapsed": false
   },
   "outputs": [
    {
     "name": "stdout",
     "output_type": "stream",
     "text": [
      "Loading /home/benjamin/Téléchargements/spotless2015.csv\n",
      "Loading /home/benjamin/Téléchargements/spotless2016.csv\n",
      "Sorting by date\n",
      "Data exported to /home/benjamin/Documents/memetracker/Data/csv/spotless.csv\n",
      "Number of entries: 1452\n"
     ]
    }
   ],
   "source": [
    "recorded_files = ['/home/benjamin/Téléchargements/spotless2015.csv',\n",
    "                  '/home/benjamin/Téléchargements/spotless2016.csv']\n",
    "export_file = output_path+'spotless.csv'\n",
    "process_data(recorded_files,export_file)"
   ]
  },
  {
   "cell_type": "markdown",
   "metadata": {},
   "source": [
    "### LBDL"
   ]
  },
  {
   "cell_type": "code",
   "execution_count": 9,
   "metadata": {
    "collapsed": false
   },
   "outputs": [
    {
     "name": "stdout",
     "output_type": "stream",
     "text": [
      "Loading /home/benjamin/Téléchargements/LBDL01-042015.csv\n",
      "Loading /home/benjamin/Téléchargements/LBDL05-122015.csv\n",
      "Loading /home/benjamin/Téléchargements/LBDL01-052016.csv\n",
      "Loading /home/benjamin/Téléchargements/LBDL06-102016.csv\n",
      "Sorting by date\n",
      "Data exported to /home/benjamin/Documents/memetracker/Data/csv/LBDL.csv\n",
      "Number of entries: 29408\n"
     ]
    }
   ],
   "source": [
    "recorded_files = ['/home/benjamin/Téléchargements/LBDL01-042015.csv',\n",
    "                  '/home/benjamin/Téléchargements/LBDL05-122015.csv',\n",
    "                  '/home/benjamin/Téléchargements/LBDL01-052016.csv',\n",
    "                  '/home/benjamin/Téléchargements/LBDL06-102016.csv']\n",
    "export_file = output_path+'LBDL.csv'\n",
    "process_data(recorded_files,export_file)"
   ]
  },
  {
   "cell_type": "markdown",
   "metadata": {},
   "source": [
    "### Colony"
   ]
  },
  {
   "cell_type": "code",
   "execution_count": 10,
   "metadata": {
    "collapsed": false
   },
   "outputs": [
    {
     "name": "stdout",
     "output_type": "stream",
     "text": [
      "Loading /home/benjamin/Téléchargements/colony2015.csv\n",
      "Loading /home/benjamin/Téléchargements/colony2016.csv\n",
      "Sorting by date\n",
      "Data exported to /home/benjamin/Documents/memetracker/Data/csv/colony.csv\n",
      "Number of entries: 3935\n"
     ]
    }
   ],
   "source": [
    "recorded_files = ['/home/benjamin/Téléchargements/colony2015.csv',\n",
    "                  '/home/benjamin/Téléchargements/colony2016.csv']\n",
    "export_file = output_path+'colony.csv'\n",
    "process_data(recorded_files,export_file)"
   ]
  },
  {
   "cell_type": "markdown",
   "metadata": {},
   "source": [
    "### Versailles"
   ]
  },
  {
   "cell_type": "code",
   "execution_count": 11,
   "metadata": {
    "collapsed": false
   },
   "outputs": [
    {
     "name": "stdout",
     "output_type": "stream",
     "text": [
      "Loading /home/benjamin/Téléchargements/versaillles01-062015.csv\n",
      "Loading /home/benjamin/Téléchargements/versailles07-122015.csv\n",
      "Loading /home/benjamin/Téléchargements/Versailles2016.csv\n",
      "Sorting by date\n",
      "Data exported to /home/benjamin/Documents/memetracker/Data/csv/versailles.csv\n",
      "Number of entries: 17349\n"
     ]
    }
   ],
   "source": [
    "recorded_files = ['/home/benjamin/Téléchargements/versaillles01-062015.csv',\n",
    "                  '/home/benjamin/Téléchargements/versailles07-122015.csv',\n",
    "                  '/home/benjamin/Téléchargements/Versailles2016.csv']\n",
    "export_file = output_path+'versailles.csv'\n",
    "process_data(recorded_files,export_file)"
   ]
  },
  {
   "cell_type": "markdown",
   "metadata": {},
   "source": [
    "### Panthers"
   ]
  },
  {
   "cell_type": "code",
   "execution_count": 12,
   "metadata": {
    "collapsed": false
   },
   "outputs": [
    {
     "name": "stdout",
     "output_type": "stream",
     "text": [
      "Loading /home/benjamin/Téléchargements/panthers2015.csv\n",
      "Loading /home/benjamin/Téléchargements/panthers2016.csv\n",
      "Sorting by date\n",
      "Data exported to /home/benjamin/Documents/memetracker/Data/csv/panthers.csv\n",
      "Number of entries: 4543\n"
     ]
    }
   ],
   "source": [
    "recorded_files = ['/home/benjamin/Téléchargements/panthers2015.csv',\n",
    "                  '/home/benjamin/Téléchargements/panthers2016.csv']\n",
    "export_file = output_path+'panthers.csv'\n",
    "process_data(recorded_files,export_file)"
   ]
  },
  {
   "cell_type": "markdown",
   "metadata": {},
   "source": [
    "### Marseille"
   ]
  },
  {
   "cell_type": "code",
   "execution_count": 13,
   "metadata": {
    "collapsed": false
   },
   "outputs": [
    {
     "name": "stdout",
     "output_type": "stream",
     "text": [
      "Loading /home/benjamin/Téléchargements/marseille2015.csv\n",
      "Loading /home/benjamin/Téléchargements/marseille01-042016.csv\n",
      "Loading /home/benjamin/Téléchargements/marseille0105-09052016.csv\n",
      "Loading /home/benjamin/Téléchargements/marseille1005-31052016.csv\n",
      "Loading /home/benjamin/Téléchargements/marseille06-102016.csv\n",
      "Sorting by date\n",
      "Data exported to /home/benjamin/Documents/memetracker/Data/csv/marseille.csv\n",
      "Number of entries: 32394\n"
     ]
    }
   ],
   "source": [
    "recorded_files = ['/home/benjamin/Téléchargements/marseille2015.csv',\n",
    "                  '/home/benjamin/Téléchargements/marseille01-042016.csv',\n",
    "                  '/home/benjamin/Téléchargements/marseille0105-09052016.csv',\n",
    "                  '/home/benjamin/Téléchargements/marseille1005-31052016.csv',\n",
    "                  '/home/benjamin/Téléchargements/marseille06-102016.csv']\n",
    "export_file = output_path+'marseille.csv'\n",
    "process_data(recorded_files,export_file)"
   ]
  },
  {
   "cell_type": "code",
   "execution_count": null,
   "metadata": {
    "collapsed": true
   },
   "outputs": [],
   "source": []
  },
  {
   "cell_type": "code",
   "execution_count": null,
   "metadata": {
    "collapsed": true
   },
   "outputs": [],
   "source": []
  }
 ],
 "metadata": {
  "kernelspec": {
   "display_name": "Python 3",
   "language": "python",
   "name": "python3"
  },
  "language_info": {
   "codemirror_mode": {
    "name": "ipython",
    "version": 3
   },
   "file_extension": ".py",
   "mimetype": "text/x-python",
   "name": "python",
   "nbconvert_exporter": "python",
   "pygments_lexer": "ipython3",
   "version": "3.5.2"
  }
 },
 "nbformat": 4,
 "nbformat_minor": 1
}
