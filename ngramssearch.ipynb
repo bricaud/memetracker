{
 "cells": [
  {
   "cell_type": "markdown",
   "metadata": {},
   "source": [
    "## Creating a graph of n-grams from text data\n",
    "Looking at the neighbours of a selected word"
   ]
  },
  {
   "cell_type": "markdown",
   "metadata": {},
   "source": [
    "### Loading the text data"
   ]
  },
  {
   "cell_type": "code",
   "execution_count": 1,
   "metadata": {
    "collapsed": true
   },
   "outputs": [],
   "source": [
    "import pandas as pd\n",
    "import itertools\n",
    "from collections import Counter"
   ]
  },
  {
   "cell_type": "code",
   "execution_count": 2,
   "metadata": {
    "collapsed": false
   },
   "outputs": [],
   "source": [
    "graph_data_path = './Data/graph/'\n",
    "pickle_data_path = './Data/pickle/'\n",
    "series_name = 'marseille'\n",
    "series_name = 'LBDL'\n",
    "pickle_file = pickle_data_path+series_name+'_texts'+'.pkl'\n",
    "vocab_file = pickle_data_path+series_name+'_vocab_bow'+'.pkl'\n",
    "tfidf_file = pickle_data_path+series_name+'_vocab_tfidf'+'.pkl'"
   ]
  },
  {
   "cell_type": "code",
   "execution_count": 3,
   "metadata": {
    "collapsed": false
   },
   "outputs": [],
   "source": [
    "text_data = pd.read_pickle(pickle_file)\n",
    "vocab_data = pd.read_pickle(vocab_file)\n",
    "tfidf_data = pd.read_pickle(tfidf_file)"
   ]
  },
  {
   "cell_type": "code",
   "execution_count": 4,
   "metadata": {
    "collapsed": true
   },
   "outputs": [],
   "source": [
    "# create the set of most used words\n",
    "#nb_words = 200\n",
    "#word_set = set(tfidf_data.words[0:nb_words])"
   ]
  },
  {
   "cell_type": "markdown",
   "metadata": {},
   "source": [
    "###  Selecting documents with particular keywords"
   ]
  },
  {
   "cell_type": "markdown",
   "metadata": {},
   "source": [
    "## Computing the hirarchical structure "
   ]
  },
  {
   "cell_type": "code",
   "execution_count": 5,
   "metadata": {
    "collapsed": false
   },
   "outputs": [],
   "source": [
    "def find_ngrams(word,df_texts,direction='forward',n_grams=3):\n",
    "    # find the words that follow (direction='forward') or precede (direction='backward')\n",
    "    # the keyword 'word' in the texts 'texts'\n",
    "    # n_grams: number of successive words\n",
    "    # return \n",
    "    # * A list of Pandas dataframes \n",
    "    #   where each PD contain the list of ngrams with their occurence\n",
    "    # * the list of texts where the word has been found\n",
    "    # Example:\n",
    "    #         word_list,texts_list = find_neighbours(word,texts,direction='forward')\n",
    "    neighbour_list = []\n",
    "    list_texts_subset = []\n",
    "    list_of_ngram_list = []\n",
    "    for n in range(n_grams):\n",
    "        list_of_ngram_list.append([])\n",
    "    #print(word)\n",
    "    for index,row in df_texts.iterrows():\n",
    "        #print(row)\n",
    "        text = row.filtered_text\n",
    "        if (not pd.isnull(text)):\n",
    "            text = text.lower()\n",
    "            wordlist = str(text).split()\n",
    "            if direction=='forward':\n",
    "                pass\n",
    "            elif direction=='backward':\n",
    "                wordlist.reverse()\n",
    "            else :\n",
    "                raise NameError('Unknown direction. Only \\'forward\\' or \\'backward\\' are allowed.')\n",
    "            if len(set(wordlist)&set([word]))>0:\n",
    "                word_indices = [i for i, x in enumerate(wordlist) if x == word]\n",
    "                list_texts_subset.append(index)\n",
    "                for word_ind in word_indices:\n",
    "                    word_chain = chain_of_grams(word_ind,wordlist,n_grams)\n",
    "                    #word_chain = ' '.join(word_chain)\n",
    "                    list_of_ngram_list = append_chain(list_of_ngram_list,word_chain)\n",
    "                    #neighbour_list.append(wordlist[word_ind+1])\n",
    "    df_texts_subset =df_texts.loc[list_texts_subset]\n",
    "    list_of_ngram_df_merged = merge_ngrams(list_of_ngram_list)\n",
    "    return list_of_ngram_df_merged,df_texts_subset"
   ]
  },
  {
   "cell_type": "code",
   "execution_count": 6,
   "metadata": {
    "collapsed": false
   },
   "outputs": [],
   "source": [
    "def chain_of_grams(word_ind,wordlist,n_grams):\n",
    "    # chain the words that follow the word in wordlist with index word_ind\n",
    "    # n_grams give length of the chain\n",
    "    # return a list of words\n",
    "    n = 0\n",
    "    word_chain = []\n",
    "    while (n<=n_grams and (word_ind+n<len(wordlist))):\n",
    "        word_chain.append(wordlist[word_ind+n])\n",
    "        n+=1\n",
    "    return word_chain"
   ]
  },
  {
   "cell_type": "code",
   "execution_count": 7,
   "metadata": {
    "collapsed": true
   },
   "outputs": [],
   "source": [
    "def append_chain(list_of_ngram_list,word_chain):\n",
    "    # for each dataframe, corresponding to the n-grams\n",
    "    # turn the list of words into a string of the size of the n-gram\n",
    "    # add it to its dataframe\n",
    "    for n in range(len(word_chain)-1):\n",
    "        n_gram = ' '.join(word_chain[:n+1])\n",
    "        list_of_ngram_list[n].append(n_gram)\n",
    "    return list_of_ngram_list"
   ]
  },
  {
   "cell_type": "code",
   "execution_count": 8,
   "metadata": {
    "collapsed": false
   },
   "outputs": [],
   "source": [
    "def merge_ngrams(list_of_ngram_list):\n",
    "    # merge the diplucates in all the dataframes of n-grams\n",
    "    # return a list of dataframe, one for each n-gram length\n",
    "    # each dataframe has two columns, one with the n-gram, one with its occurence\n",
    "    list_of_ngram_df_merged = []\n",
    "    for n in range(len(list_of_ngram_list)):\n",
    "        list_of_ngram_df_merged.append([])\n",
    "    for n in range(len(list_of_ngram_list)):\n",
    "        N_uniquedic = Counter(list_of_ngram_list[n])\n",
    "        # optionally: filter the dic for removing the lowest values\n",
    "        N_words = {k:v for (k,v) in N_uniquedic.items() if v > 0}\n",
    "        Ndf = pd.DataFrame(list(N_words.items()), columns=['ngram','nb_occur'])\n",
    "        Ndf = Ndf.sort_values('nb_occur',ascending=False)\n",
    "        Ndf = Ndf.reset_index(drop=True)\n",
    "        list_of_ngram_df_merged[n] = Ndf\n",
    "    return list_of_ngram_df_merged"
   ]
  },
  {
   "cell_type": "markdown",
   "metadata": {},
   "source": [
    "### Word to search for"
   ]
  },
  {
   "cell_type": "code",
   "execution_count": 91,
   "metadata": {
    "collapsed": false
   },
   "outputs": [
    {
     "name": "stdout",
     "output_type": "stream",
     "text": [
      "Search for the candidat word\n",
      "Number of occurence of 'secret' : 1111\n"
     ]
    }
   ],
   "source": [
    "candidat_word = \"secret\"\n",
    "# Number n of n-grams\n",
    "n_grams = 7\n",
    "print('Search for the candidat word')\n",
    "list_of_ngram_df_merged,df_texts_subset = find_ngrams(candidat_word,text_data,\n",
    "                                                      direction='forward',n_grams=n_grams)\n",
    "nb_occur = list_of_ngram_df_merged[0].nb_occur[0]\n",
    "print('Number of occurence of \\'{}\\' : {}'.format(candidat_word,nb_occur))"
   ]
  },
  {
   "cell_type": "markdown",
   "metadata": {},
   "source": [
    "### Creating the graph"
   ]
  },
  {
   "cell_type": "code",
   "execution_count": 92,
   "metadata": {
    "collapsed": false
   },
   "outputs": [],
   "source": [
    "import networkx as nx\n",
    "import matplotlib.pyplot as plt"
   ]
  },
  {
   "cell_type": "code",
   "execution_count": 126,
   "metadata": {
    "collapsed": false
   },
   "outputs": [
    {
     "name": "stdout",
     "output_type": "stream",
     "text": [
      "Create the graph and add the root node 'secret'.\n"
     ]
    }
   ],
   "source": [
    "print('Create the graph and add the root node \\'{}\\'.'.format(candidat_word))\n",
    "G = nx.DiGraph()\n",
    "# root word\n",
    "layer_id=0\n",
    "parent = ''\n",
    "candidat_id = '_'+candidat_word\n",
    "# compute the number of occurences of the word:\n",
    "nb_occur = int(list_of_ngram_df_merged[0].nb_occur[0])\n",
    "#nb_occur = 0\n",
    "G.add_node(candidat_id,name=candidat_word, occur=nb_occur)"
   ]
  },
  {
   "cell_type": "code",
   "execution_count": 127,
   "metadata": {
    "collapsed": true
   },
   "outputs": [],
   "source": [
    "def add_node_layer(ngram_df,threshold=0,popularity=False):\n",
    "    # Add all the nodes of a layer\n",
    "    # Add them only if the nb of occur is above the threshold\n",
    "    # ngram_df is the dataframe containing the ngrams with their occurence\n",
    "    # layer is the graph layer ()\n",
    "    for idx,row in ngram_df.iterrows():\n",
    "        word_list = row.ngram.split()\n",
    "        if len(word_list)<2:\n",
    "            raise NameError('n-grams in the dataframe must be longer than 1')\n",
    "        nb_occur = row.nb_occur\n",
    "        #print(row.ngram)\n",
    "        word = word_list[-1]\n",
    "        path_word = '_'.join(word_list[:-1])\n",
    "        parent_word = word_list[-2]\n",
    "        path_parent = '_'.join(word_list[:-2])\n",
    "        if len(word_list)<3:\n",
    "            grand_parent=''\n",
    "        else:\n",
    "            grand_parent = word_list[-3]\n",
    "        word_id = path_word+'_'+word\n",
    "        parent_id = path_parent+'_'+parent_word\n",
    "        if nb_occur>=threshold and G.has_node(parent_id):\n",
    "            G.add_node(word_id,name=word, occur=nb_occur)\n",
    "            G.add_edge(parent_id, word_id, weight=nb_occur)\n",
    "        if popularity:\n",
    "            if idx>=popularity-1:\n",
    "                break"
   ]
  },
  {
   "cell_type": "code",
   "execution_count": 128,
   "metadata": {
    "collapsed": false
   },
   "outputs": [
    {
     "name": "stdout",
     "output_type": "stream",
     "text": [
      "Add children nodes in the 7-grams dataset.\n"
     ]
    }
   ],
   "source": [
    "print('Add children nodes in the {}-grams dataset.'.format(n_grams))\n",
    "for n in range(len(list_of_ngram_df_merged[1:])):\n",
    "    layer = n+1\n",
    "    ngram_df = list_of_ngram_df_merged[layer]\n",
    "    add_node_layer(ngram_df,threshold=5,popularity=15**layer)"
   ]
  },
  {
   "cell_type": "code",
   "execution_count": 129,
   "metadata": {
    "collapsed": false
   },
   "outputs": [
    {
     "data": {
      "image/png": "[encoded data removed]",
      "text/plain": [
       "<matplotlib.figure.Figure at 0x7f97b032dc18>"
      ]
     },
     "metadata": {},
     "output_type": "display_data"
    }
   ],
   "source": [
    "nx.draw_spring(G)\n",
    "plt.show()"
   ]
  },
  {
   "cell_type": "code",
   "execution_count": 130,
   "metadata": {
    "collapsed": false
   },
   "outputs": [
    {
     "data": {
      "text/plain": [
       "104"
      ]
     },
     "execution_count": 130,
     "metadata": {},
     "output_type": "execute_result"
    }
   ],
   "source": [
    "G.size()"
   ]
  },
  {
   "cell_type": "code",
   "execution_count": 121,
   "metadata": {
    "collapsed": true
   },
   "outputs": [],
   "source": [
    "#G.in_degree()"
   ]
  },
  {
   "cell_type": "markdown",
   "metadata": {},
   "source": [
    "### Properties of the edges"
   ]
  },
  {
   "cell_type": "code",
   "execution_count": 122,
   "metadata": {
    "collapsed": false
   },
   "outputs": [],
   "source": [
    "# Extracting the edge information\n",
    "#sum_weight = 0\n",
    "#n_edges = 0\n",
    "#for u,v,a in G.edges(data=True):\n",
    "#    sum_weight+=a['weight']\n",
    "#    n_edges+=1\n",
    "#average_weight = sum_weight*1.0/n_edges"
   ]
  },
  {
   "cell_type": "code",
   "execution_count": 123,
   "metadata": {
    "collapsed": false
   },
   "outputs": [],
   "source": [
    "# Node properties: degree and centrality\n",
    "degreeDic = G.degree(weight='weight')\n",
    "nx.set_node_attributes(G,'degree',degreeDic)\n",
    "bcDic = nx.betweenness_centrality(G)\n",
    "nx.set_node_attributes(G,'bCentrality',bcDic)"
   ]
  },
  {
   "cell_type": "markdown",
   "metadata": {},
   "source": [
    "### Saving the graph"
   ]
  },
  {
   "cell_type": "code",
   "execution_count": 124,
   "metadata": {
    "collapsed": false
   },
   "outputs": [],
   "source": [
    "# Write the graph to a json file\n",
    "from networkx.readwrite import json_graph\n",
    "datag = json_graph.tree_data(G,root=candidat_id)\n",
    "import json\n",
    "s = json.dumps(datag)\n",
    "#datag['links'] = [\n",
    "#        {\n",
    "#            'source': datag['nodes'][link['source']]['id'],\n",
    "#            'target': datag['nodes'][link['target']]['id']\n",
    "#        }\n",
    "#        for link in datag['links']]\n",
    "s = json.dumps(datag)\n",
    "with open(\"./viz/treegraph\"+series_name+\".json\", \"w\") as f:\n",
    "    f.write(s)"
   ]
  },
  {
   "cell_type": "markdown",
   "metadata": {},
   "source": [
    "### Open a web page for visualization"
   ]
  },
  {
   "cell_type": "code",
   "execution_count": 125,
   "metadata": {
    "collapsed": false
   },
   "outputs": [
    {
     "data": {
      "text/plain": [
       "True"
      ]
     },
     "execution_count": 125,
     "metadata": {},
     "output_type": "execute_result"
    }
   ],
   "source": [
    "import webbrowser\n",
    "url = 'http://localhost:8008/treegraphmarseille.html'\n",
    "url = 'http://localhost:8008/treegraphLBDL.html'\n",
    "#webbrowser.open_new_tab(url)\n",
    "webbrowser.open_new(url)"
   ]
  },
  {
   "cell_type": "code",
   "execution_count": null,
   "metadata": {
    "collapsed": true
   },
   "outputs": [],
   "source": [
    "G.edges(data='weight')"
   ]
  },
  {
   "cell_type": "code",
   "execution_count": null,
   "metadata": {
    "collapsed": false
   },
   "outputs": [],
   "source": [
    "print('Add children nodes in the {}-grams dataset.'.format(n_grams))\n",
    "ngram_df = list_of_ngram_df_merged[n_grams-1]\n",
    "for idx,row in ngram_df.iterrows():\n",
    "    word_list = row.ngram.split()\n",
    "    #print(row.ngram)\n",
    "    for idx,word in enumerate(word_list):\n",
    "        if idx == 0:\n",
    "            grand_parent = ''\n",
    "        else:\n",
    "            parent_word = word_list[idx-1]\n",
    "            word_id = word+parent_word+str(idx)\n",
    "            if G.has_node(word_id):\n",
    "                G.node[word_id]['occur'] += 1\n",
    "                #nx.set_node_attributes(G, 'occur', G.node[word_id]['occur']+1)\n",
    "            else:\n",
    "                G.add_node(word_id,name=word, occur=1)\n",
    "            parent_id = parent_word+grand_parent+str(idx-1)\n",
    "            if G.has_edge(parent_id,word_id):\n",
    "                # we added this one before, just increase the weight by one\n",
    "                G[parent_id][word_id]['weight'] += 1\n",
    "            else:\n",
    "                # new edge. add with weight=1\n",
    "                G.add_edge(parent_id, word_id, weight=1)\n",
    "            grand_parent = parent_word\n",
    "            if idx == len(word_list)-1:\n",
    "                G.node[word_id]['occur'] = row.nb_occur"
   ]
  },
  {
   "cell_type": "code",
   "execution_count": null,
   "metadata": {
    "collapsed": false
   },
   "outputs": [],
   "source": [
    "clusterDic"
   ]
  },
  {
   "cell_type": "code",
   "execution_count": null,
   "metadata": {
    "collapsed": false
   },
   "outputs": [],
   "source": [
    "neighbour_data1,df_texts_subset1 = top_neighbours('peau',df_texts_list,direction='forward',top_n=10)\n",
    "print(neighbour_data1.head(1))\n",
    "neighbour_data2,df_texts_subset2 = top_neighbours(neighbour_data1.head(1).word[0],df_texts_subset1,direction='forward',top_n=10)\n",
    "print(neighbour_data2.head(1))\n",
    "neighbour_data3,df_texts_subset3 = top_neighbours(neighbour_data2.head(1).word[0],df_texts_subset2,direction='forward',top_n=10)\n",
    "\n",
    "#neighbour_data2,texts_subset2 = top_neighbours(neighbour_data.head(1).word[0],texts_subset1,direction='forward',top_n=10)\n"
   ]
  },
  {
   "cell_type": "code",
   "execution_count": null,
   "metadata": {
    "collapsed": false
   },
   "outputs": [],
   "source": [
    "df_texts_subset2.text.loc[11060]"
   ]
  },
  {
   "cell_type": "code",
   "execution_count": null,
   "metadata": {
    "collapsed": false
   },
   "outputs": [],
   "source": [
    "neighbour_data1,texts_subset1 = top_neighbours('égalité',text_data.filtered_text,direction='forward',top_n=10)\n",
    "print(neighbour_data1.head(1))\n",
    "neighbour_data2,texts_subset2 = top_neighbours(neighbour_data1.head(1).word[0],texts_subset1,direction='forward',top_n=10)\n",
    "print(neighbour_data2.head(1))\n",
    "neighbour_data3,texts_subset3 = top_neighbours(neighbour_data2.head(1).word[0],texts_subset2,direction='forward',top_n=10)\n"
   ]
  },
  {
   "cell_type": "code",
   "execution_count": null,
   "metadata": {
    "collapsed": false
   },
   "outputs": [],
   "source": [
    "texts_subset3"
   ]
  },
  {
   "cell_type": "code",
   "execution_count": null,
   "metadata": {
    "collapsed": true
   },
   "outputs": [],
   "source": []
  }
 ],
 "metadata": {
  "kernelspec": {
   "display_name": "Python 3",
   "language": "python",
   "name": "python3"
  },
  "language_info": {
   "codemirror_mode": {
    "name": "ipython",
    "version": 3
   },
   "file_extension": ".py",
   "mimetype": "text/x-python",
   "name": "python",
   "nbconvert_exporter": "python",
   "pygments_lexer": "ipython3",
   "version": "3.5.2"
  }
 },
 "nbformat": 4,
 "nbformat_minor": 1
}
