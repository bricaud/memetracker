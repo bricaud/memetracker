{
 "cells": [
  {
   "cell_type": "markdown",
   "metadata": {},
   "source": [
    "# Test hour slices for the multilayer graph"
   ]
  },
  {
   "cell_type": "code",
   "execution_count": 1,
   "metadata": {
    "collapsed": true
   },
   "outputs": [],
   "source": [
    "import pandas as pd\n",
    "import memebox.multilayergraph as mlg\n",
    "import configparser\n",
    "config = configparser.ConfigParser()\n",
    "config.read('memeconfig.ini')\n",
    "#data_path = config['DEFAULT']['data_path']\n",
    "pickle_data_path = config['DEFAULT']['pickle_data_path']\n",
    "viz_path = config['DEFAULT']['viz_data_path']\n",
    "time_component_path = config['DEFAULT']['time_data_path']\n",
    "\n",
    "series_name = 'LBDL'\n",
    "#series_name = 'marseille'\n",
    "\n",
    "pickle_file = pickle_data_path+series_name+'_texts'+'.pkl'\n",
    "text_data = pd.read_pickle(pickle_file)\n"
   ]
  },
  {
   "cell_type": "code",
   "execution_count": 2,
   "metadata": {
    "collapsed": true
   },
   "outputs": [],
   "source": [
    "def compute_components(text_data,day_list,threshold):\n",
    "\t# compute the components\n",
    "\t# return the multilayer graph and the graph of compressed components\n",
    "\t\n",
    "\tprint('Computing the multilayer graph.')\n",
    "\tH = mlg.multilayergraph(text_data,day_list,threshold)\n",
    "\tprint('Compressing the connected components.')\n",
    "\tG_all = mlg.compress_multilayer(H)\n",
    "\tG_all.graph['series_name'] = series_name\n",
    "\treturn H,G_all\n"
   ]
  },
  {
   "cell_type": "code",
   "execution_count": 3,
   "metadata": {
    "collapsed": false
   },
   "outputs": [
    {
     "name": "stdout",
     "output_type": "stream",
     "text": [
      "Dates are from 01-03-2016 to 31-03-2016.\n",
      "Computing the multilayer graph.\n",
      "Nb of edges: 32, nb of nodes: 25.\n",
      "Compressing the connected components.\n",
      "32\n",
      "13\n"
     ]
    }
   ],
   "source": [
    "year = 2016\n",
    "month = 3\n",
    "day_list = mlg.days_of_month(year,month)\n",
    "H,G_all = compute_components(text_data,day_list,threshold = 30)\n",
    "print(H.size())\n",
    "print(G_all.size())"
   ]
  },
  {
   "cell_type": "code",
   "execution_count": 4,
   "metadata": {
    "collapsed": false
   },
   "outputs": [
    {
     "name": "stdout",
     "output_type": "stream",
     "text": [
      "Dates are from 00-01-03-2016 to 23-31-03-2016.\n",
      "Computing the multilayer graph.\n",
      "Nb of edges: 1515, nb of nodes: 1454.\n",
      "Compressing the connected components.\n",
      "1515\n",
      "1140\n"
     ]
    }
   ],
   "source": [
    "year = 2016\n",
    "month = 3\n",
    "day_list = mlg.hours_of_month(year,month)\n",
    "H,G_all = compute_components(text_data,day_list,threshold = 3)\n",
    "print(H.size())\n",
    "print(G_all.size())"
   ]
  },
  {
   "cell_type": "code",
   "execution_count": 5,
   "metadata": {
    "collapsed": false
   },
   "outputs": [
    {
     "data": {
      "text/plain": [
       "1515"
      ]
     },
     "execution_count": 5,
     "metadata": {},
     "output_type": "execute_result"
    }
   ],
   "source": [
    "H.size()"
   ]
  },
  {
   "cell_type": "code",
   "execution_count": 9,
   "metadata": {
    "collapsed": false
   },
   "outputs": [
    {
     "name": "stdout",
     "output_type": "stream",
     "text": [
      "Dates are from 00-01-05-2016 to 23-31-05-2016.\n",
      "Threshold: 2\n",
      "Computing the multilayer graph.\n",
      "Nb of edges: 14320, nb of nodes: 12115.\n",
      "Compressing the connected components.\n",
      "Threshold: 4\n",
      "Computing the multilayer graph.\n",
      "Nb of edges: 4828, nb of nodes: 3875.\n",
      "Compressing the connected components.\n",
      "Threshold: 6\n",
      "Computing the multilayer graph.\n",
      "Nb of edges: 885, nb of nodes: 998.\n",
      "Compressing the connected components.\n",
      "Threshold: 8\n",
      "Computing the multilayer graph.\n",
      "Nb of edges: 696, nb of nodes: 773.\n",
      "Compressing the connected components.\n",
      "Threshold: 10\n",
      "Computing the multilayer graph.\n",
      "Nb of edges: 81, nb of nodes: 112.\n",
      "Compressing the connected components.\n",
      "Threshold: 12\n",
      "Computing the multilayer graph.\n",
      "Nb of edges: 45, nb of nodes: 64.\n",
      "Compressing the connected components.\n",
      "Threshold: 14\n",
      "Computing the multilayer graph.\n",
      "Nb of edges: 41, nb of nodes: 56.\n",
      "Compressing the connected components.\n",
      "Threshold: 16\n",
      "Computing the multilayer graph.\n",
      "Nb of edges: 26, nb of nodes: 40.\n",
      "Compressing the connected components.\n",
      "Threshold: 18\n",
      "Computing the multilayer graph.\n",
      "Nb of edges: 10, nb of nodes: 17.\n",
      "Compressing the connected components.\n",
      "Threshold: 20\n",
      "Computing the multilayer graph.\n",
      "Nb of edges: 8, nb of nodes: 13.\n",
      "Compressing the connected components.\n",
      "Threshold: 22\n",
      "Computing the multilayer graph.\n",
      "Nb of edges: 6, nb of nodes: 9.\n",
      "Compressing the connected components.\n",
      "Threshold: 24\n",
      "Computing the multilayer graph.\n",
      "Nb of edges: 6, nb of nodes: 9.\n",
      "Compressing the connected components.\n",
      "Threshold: 26\n",
      "Computing the multilayer graph.\n",
      "Nb of edges: 6, nb of nodes: 9.\n",
      "Compressing the connected components.\n",
      "Threshold: 28\n",
      "Computing the multilayer graph.\n",
      "Nb of edges: 3, nb of nodes: 6.\n",
      "Compressing the connected components.\n"
     ]
    }
   ],
   "source": [
    "H_list = []\n",
    "G_list = []\n",
    "t_list = []\n",
    "year = 2016\n",
    "month = 5\n",
    "day_list = mlg.hours_of_month(year,month)\n",
    "for threshold in range(2,30,2):\n",
    "    print('Threshold: {}'.format(threshold))\n",
    "    H,G_all = compute_components(text_data,day_list,threshold=threshold)\n",
    "    H_list.append(H.size())\n",
    "    G_list.append(G_all.size())\n",
    "    t_list.append(threshold)"
   ]
  },
  {
   "cell_type": "code",
   "execution_count": 8,
   "metadata": {
    "collapsed": false
   },
   "outputs": [
    {
     "data": {
      "image/png": "[encoded data removed]",
      "text/plain": [
       "<matplotlib.figure.Figure at 0x7f825d5a37f0>"
      ]
     },
     "metadata": {},
     "output_type": "display_data"
    }
   ],
   "source": [
    "import matplotlib.pyplot as plt\n",
    "import numpy as np\n",
    "x = np.array(t_list)\n",
    "plt.plot(x,G_list)\n",
    "plt.plot(x,H_list)\n",
    "\n",
    "plt.plot(x,G_list[0]/2**((x-x[0])/2))\n",
    "plt.yscale('log')\n",
    "plt.show()"
   ]
  },
  {
   "cell_type": "code",
   "execution_count": 51,
   "metadata": {
    "collapsed": false
   },
   "outputs": [
    {
     "data": {
      "image/png": "[encoded data removed]",
      "text/plain": [
       "<matplotlib.figure.Figure at 0x7f1024e6a780>"
      ]
     },
     "metadata": {},
     "output_type": "display_data"
    }
   ],
   "source": [
    "plt.plot(np.log2(np.array(G_list)/20))\n",
    "#plt.plot(H_list)\n",
    "x = np.arange(10,150,10)\n",
    "plt.plot(7-(x-10)/20)\n",
    "#plt.yscale('log')\n",
    "plt.show()"
   ]
  },
  {
   "cell_type": "code",
   "execution_count": 64,
   "metadata": {
    "collapsed": false
   },
   "outputs": [
    {
     "data": {
      "text/plain": [
       "7.0295633144326581"
      ]
     },
     "execution_count": 64,
     "metadata": {},
     "output_type": "execute_result"
    }
   ],
   "source": [
    "np.log2(G_list[0]/20)"
   ]
  },
  {
   "cell_type": "code",
   "execution_count": 65,
   "metadata": {
    "collapsed": false
   },
   "outputs": [
    {
     "data": {
      "image/png": "[encoded data removed]",
      "text/plain": [
       "<matplotlib.figure.Figure at 0x7f1024452550>"
      ]
     },
     "metadata": {},
     "output_type": "display_data"
    }
   ],
   "source": [
    "plt.plot(np.log2(np.array(G_list)/20)-np.log2(G_list[0]/20))\n",
    "#plt.plot(H_list)\n",
    "x = np.arange(10,150,10)\n",
    "plt.plot(-(x-10)/20)\n",
    "#plt.yscale('log')\n",
    "plt.show()"
   ]
  },
  {
   "cell_type": "code",
   "execution_count": null,
   "metadata": {
    "collapsed": true
   },
   "outputs": [],
   "source": [
    "T threshold, Ge nb of edges of G\n",
    "On a donc à peut pret:\n",
    "    log2(Ge0/20)-(T-T0)/20 = log2(Ge/20)\n",
    "    T = T0+20*(log2(Ge0/20)-log2(Ge/20))\n",
    "    T = T0+20*log2(Ge0/Ge)"
   ]
  },
  {
   "cell_type": "code",
   "execution_count": 41,
   "metadata": {
    "collapsed": false
   },
   "outputs": [
    {
     "name": "stdout",
     "output_type": "stream",
     "text": [
      "Dates are from 01-04-2016 to 30-04-2016.\n",
      "Computing the multilayer graph.\n",
      "Nb of edges: 6518, nb of nodes: 4302.\n",
      "Compressing the connected components.\n",
      "Computing the multilayer graph.\n",
      "Nb of edges: 4579, nb of nodes: 3080.\n",
      "Compressing the connected components.\n",
      "Computing the multilayer graph.\n",
      "Nb of edges: 2781, nb of nodes: 2148.\n",
      "Compressing the connected components.\n",
      "Computing the multilayer graph.\n",
      "Nb of edges: 2476, nb of nodes: 1942.\n",
      "Compressing the connected components.\n",
      "Computing the multilayer graph.\n",
      "Nb of edges: 1759, nb of nodes: 1440.\n",
      "Compressing the connected components.\n",
      "Computing the multilayer graph.\n",
      "Nb of edges: 1252, nb of nodes: 1138.\n",
      "Compressing the connected components.\n",
      "Computing the multilayer graph.\n",
      "Nb of edges: 899, nb of nodes: 855.\n",
      "Compressing the connected components.\n",
      "Computing the multilayer graph.\n",
      "Nb of edges: 535, nb of nodes: 571.\n",
      "Compressing the connected components.\n",
      "Computing the multilayer graph.\n",
      "Nb of edges: 455, nb of nodes: 503.\n",
      "Compressing the connected components.\n",
      "Computing the multilayer graph.\n",
      "Nb of edges: 354, nb of nodes: 394.\n",
      "Compressing the connected components.\n",
      "Computing the multilayer graph.\n",
      "Nb of edges: 305, nb of nodes: 347.\n",
      "Compressing the connected components.\n",
      "Computing the multilayer graph.\n",
      "Nb of edges: 243, nb of nodes: 282.\n",
      "Compressing the connected components.\n",
      "Computing the multilayer graph.\n",
      "Nb of edges: 184, nb of nodes: 217.\n",
      "Compressing the connected components.\n",
      "Computing the multilayer graph.\n",
      "Nb of edges: 154, nb of nodes: 180.\n",
      "Compressing the connected components.\n"
     ]
    }
   ],
   "source": [
    "H_list = []\n",
    "G_list = []\n",
    "year = 2016\n",
    "month = 4\n",
    "day_list = mlg.days_of_month(year,month)\n",
    "for threshold in range(10,150,10):\n",
    "    H,G_all = compute_components(text_data,day_list,threshold=threshold)\n",
    "    H_list.append(H.size())\n",
    "    G_list.append(G_all.size())"
   ]
  },
  {
   "cell_type": "code",
   "execution_count": 42,
   "metadata": {
    "collapsed": false
   },
   "outputs": [
    {
     "data": {
      "image/png": "[encoded data removed]",
      "text/plain": [
       "<matplotlib.figure.Figure at 0x7f10250f2b70>"
      ]
     },
     "metadata": {},
     "output_type": "display_data"
    }
   ],
   "source": [
    "import matplotlib.pyplot as plt\n",
    "import numpy as np\n",
    "plt.plot(G_list)\n",
    "plt.plot(H_list)\n",
    "x = np.arange(10,150,10)\n",
    "plt.plot(G_list[0]/2**(x/20)*2**(1/2))\n",
    "plt.yscale('log')\n",
    "plt.show()"
   ]
  },
  {
   "cell_type": "code",
   "execution_count": 80,
   "metadata": {
    "collapsed": false
   },
   "outputs": [
    {
     "name": "stdout",
     "output_type": "stream",
     "text": [
      "Dates are from 01-01-2016 to 31-01-2016.\n",
      "Computing the multilayer graph.\n",
      "Nb of edges: 213, nb of nodes: 213.\n",
      "Compressing the connected components.\n",
      "170\n",
      "35.3106949273\n",
      "55.6021583839\n",
      "Computing the multilayer graph.\n",
      "Nb of edges: 83, nb of nodes: 72.\n",
      "Compressing the connected components.\n",
      "51\n",
      "_____________________\n",
      "Dates are from 01-02-2016 to 29-02-2016.\n",
      "Computing the multilayer graph.\n",
      "Nb of edges: 13, nb of nodes: 17.\n",
      "Compressing the connected components.\n",
      "13\n",
      "-38.8683294327\n",
      "25\n",
      "Computing the multilayer graph.\n",
      "Nb of edges: 14, nb of nodes: 17.\n",
      "Compressing the connected components.\n",
      "14\n",
      "_____________________\n",
      "Dates are from 01-03-2016 to 31-03-2016.\n",
      "Computing the multilayer graph.\n",
      "Nb of edges: 39, nb of nodes: 53.\n",
      "Compressing the connected components.\n",
      "32\n",
      "-12.8771237955\n",
      "25\n",
      "Computing the multilayer graph.\n",
      "Nb of edges: 64, nb of nodes: 78.\n",
      "Compressing the connected components.\n",
      "50\n",
      "_____________________\n",
      "Dates are from 01-04-2016 to 30-04-2016.\n",
      "Computing the multilayer graph.\n",
      "Nb of edges: 2781, nb of nodes: 2148.\n",
      "Compressing the connected components.\n",
      "2107\n",
      "107.942368181\n",
      "128.233831637\n",
      "Computing the multilayer graph.\n",
      "Nb of edges: 184, nb of nodes: 217.\n",
      "Compressing the connected components.\n",
      "181\n",
      "_____________________\n",
      "Dates are from 01-05-2016 to 31-05-2016.\n",
      "Computing the multilayer graph.\n",
      "Nb of edges: 1444, nb of nodes: 1297.\n",
      "Compressing the connected components.\n",
      "1366\n",
      "95.4377115703\n",
      "115.729175027\n",
      "Computing the multilayer graph.\n",
      "Nb of edges: 68, nb of nodes: 67.\n",
      "Compressing the connected components.\n",
      "35\n",
      "_____________________\n",
      "Dates are from 01-06-2016 to 30-06-2016.\n",
      "Computing the multilayer graph.\n",
      "Nb of edges: 98, nb of nodes: 99.\n",
      "Compressing the connected components.\n",
      "80\n",
      "13.5614381023\n",
      "33.8529015588\n",
      "Computing the multilayer graph.\n",
      "Nb of edges: 76, nb of nodes: 79.\n",
      "Compressing the connected components.\n",
      "61\n",
      "_____________________\n",
      "Dates are from 01-07-2016 to 31-07-2016.\n",
      "Computing the multilayer graph.\n",
      "Nb of edges: 40, nb of nodes: 45.\n",
      "Compressing the connected components.\n",
      "34\n",
      "-11.1278669705\n",
      "25\n",
      "Computing the multilayer graph.\n",
      "Nb of edges: 55, nb of nodes: 57.\n",
      "Compressing the connected components.\n",
      "46\n",
      "_____________________\n",
      "Dates are from 01-08-2016 to 31-08-2016.\n",
      "Computing the multilayer graph.\n",
      "Nb of edges: 44, nb of nodes: 54.\n",
      "Compressing the connected components.\n",
      "39\n",
      "-7.16907941825\n",
      "25\n",
      "Computing the multilayer graph.\n",
      "Nb of edges: 92, nb of nodes: 104.\n",
      "Compressing the connected components.\n",
      "87\n",
      "_____________________\n",
      "Dates are from 01-09-2016 to 30-09-2016.\n",
      "Computing the multilayer graph.\n",
      "Nb of edges: 22, nb of nodes: 37.\n",
      "Compressing the connected components.\n",
      "22\n",
      "-23.6884914227\n",
      "25\n",
      "Computing the multilayer graph.\n",
      "Nb of edges: 80, nb of nodes: 97.\n",
      "Compressing the connected components.\n",
      "80\n",
      "_____________________\n"
     ]
    }
   ],
   "source": [
    "for month in range(1,10):\n",
    "    threshold = 30\n",
    "    day_list = mlg.days_of_month(year,month)\n",
    "    H,G_all = compute_components(text_data,day_list,threshold)\n",
    "    print(G_all.size())\n",
    "    print(20*np.log2(G_all.size()/50.0))\n",
    "    threshold2 = max(25,threshold+20*np.log2(G_all.size()/70.0))\n",
    "    print(threshold2)\n",
    "    H,G_all = compute_components(text_data,day_list,threshold=threshold2)\n",
    "    print(G_all.size())\n",
    "    print('_____________________')\n",
    "    "
   ]
  },
  {
   "cell_type": "code",
   "execution_count": null,
   "metadata": {
    "collapsed": true
   },
   "outputs": [],
   "source": []
  }
 ],
 "metadata": {
  "kernelspec": {
   "display_name": "Python 3",
   "language": "python",
   "name": "python3"
  },
  "language_info": {
   "codemirror_mode": {
    "name": "ipython",
    "version": 3
   },
   "file_extension": ".py",
   "mimetype": "text/x-python",
   "name": "python",
   "nbconvert_exporter": "python",
   "pygments_lexer": "ipython3",
   "version": "3.5.2"
  }
 },
 "nbformat": 4,
 "nbformat_minor": 2
}
