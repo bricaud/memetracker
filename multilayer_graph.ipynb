{
 "cells": [
  {
   "cell_type": "markdown",
   "metadata": {},
   "source": [
    "## Creating a graph from text data and adding the time activity\n",
    "Looking at the neighbours of a selected word"
   ]
  },
  {
   "cell_type": "markdown",
   "metadata": {},
   "source": [
    "### Loading the text data"
   ]
  },
  {
   "cell_type": "code",
   "execution_count": 1,
   "metadata": {
    "collapsed": true
   },
   "outputs": [],
   "source": [
    "import pandas as pd\n",
    "import itertools\n",
    "import numpy as np"
   ]
  },
  {
   "cell_type": "code",
   "execution_count": 2,
   "metadata": {
    "collapsed": false
   },
   "outputs": [],
   "source": [
    "graph_data_path = '/home/benjamin/Documents/memetracker/Data/graph/'\n",
    "pickle_data_path = '/home/benjamin/Documents/memetracker/Data/pickle/'\n",
    "series_name = 'LBDL'\n",
    "series_name = 'marseille'\n",
    "pickle_file = pickle_data_path+series_name+'_texts'+'.pkl'\n",
    "vocab_file = pickle_data_path+series_name+'_vocab_bow'+'.pkl'\n",
    "tfidf_file = pickle_data_path+series_name+'_vocab_tfidf'+'.pkl'"
   ]
  },
  {
   "cell_type": "code",
   "execution_count": 3,
   "metadata": {
    "collapsed": false
   },
   "outputs": [],
   "source": [
    "text_data = pd.read_pickle(pickle_file)\n",
    "vocab_data = pd.read_pickle(vocab_file)\n",
    "tfidf_data = pd.read_pickle(tfidf_file)"
   ]
  },
  {
   "cell_type": "code",
   "execution_count": 4,
   "metadata": {
    "collapsed": true
   },
   "outputs": [],
   "source": [
    "# create the set of most used words\n",
    "#nb_words = 200\n",
    "#word_set = set(tfidf_data.words[0:nb_words])"
   ]
  },
  {
   "cell_type": "markdown",
   "metadata": {},
   "source": [
    "### Creating the graph"
   ]
  },
  {
   "cell_type": "code",
   "execution_count": 5,
   "metadata": {
    "collapsed": true
   },
   "outputs": [],
   "source": [
    "import networkx as nx\n",
    "import matplotlib.pyplot as plt"
   ]
  },
  {
   "cell_type": "code",
   "execution_count": 6,
   "metadata": {
    "collapsed": true
   },
   "outputs": [],
   "source": [
    "G = nx.DiGraph()"
   ]
  },
  {
   "cell_type": "code",
   "execution_count": null,
   "metadata": {
    "collapsed": true
   },
   "outputs": [],
   "source": [
    "def control_graph(G,word1,word2,list_forbidden_words):\n",
    "    # Control the degree of a word1 and word2\n",
    "    # if it is above the threshold, the words are removed from the graph\n",
    "    # a high degree means a node connected to many different words\n",
    "    # and put in the list of forbidden words\n",
    "    # Return:\n",
    "    # forbidden_word (bool): True if one of the words is in the list\n",
    "    # list_forbidden_words  the list of forbidden words increased in word1 or word2 are now forbidden\n",
    "    \n",
    "    words = [word1,word2]\n",
    "    threshold = 50\n",
    "    # control the degree\n",
    "    for word in words:\n",
    "        if G.has_node(word):\n",
    "            degree = G.degree(word)\n",
    "            if degree > threshold:\n",
    "                list_forbidden_words.append(word)\n",
    "                G.remove_node(word)\n",
    "        \n",
    "    # Check if in the list of forbidden words\n",
    "    if (set(words)&set(list_forbidden_words)):\n",
    "        forbidden_word = True\n",
    "    else:\n",
    "        forbidden_word = False\n",
    "    return forbidden_word,list_forbidden_words"
   ]
  },
  {
   "cell_type": "code",
   "execution_count": null,
   "metadata": {
    "collapsed": false
   },
   "outputs": [],
   "source": [
    "# for each text, create node for each keyword and connect to its following word \n",
    "list_forbidden_words = []\n",
    "for text in text_data.filtered_text:\n",
    "    textlist = str(text).split()\n",
    "    for idx,word in enumerate(textlist):\n",
    "        #print(idx)\n",
    "        if (idx+1)<len(textlist):\n",
    "            next_word = textlist[idx+1]\n",
    "            # Firs control if the words follow the graph construction rules\n",
    "            forbidden_word, list_forbidden_words = control_graph(G,word,next_word,list_forbidden_words)\n",
    "            if  not forbidden_word:\n",
    "                # Adding the nodes\n",
    "                if not G.has_node(word):\n",
    "                    G.add_node(word,name=word)\n",
    "                if not G.has_node(next_word):\n",
    "                    G.add_node(next_word,name=next_word)\n",
    "                # Adding an edge\n",
    "                if G.has_edge(word,next_word):\n",
    "                    # we added this one before, just increase the weight by one\n",
    "                    G[word][next_word]['weight'] += 1\n",
    "                else:\n",
    "                    # new edge. add with weight=1\n",
    "                    G.add_edge(word, next_word, weight=1)\n"
   ]
  },
  {
   "cell_type": "code",
   "execution_count": null,
   "metadata": {
    "collapsed": false
   },
   "outputs": [],
   "source": [
    "len(list_forbidden_words)"
   ]
  },
  {
   "cell_type": "code",
   "execution_count": null,
   "metadata": {
    "collapsed": false
   },
   "outputs": [],
   "source": [
    "G.size()"
   ]
  },
  {
   "cell_type": "code",
   "execution_count": null,
   "metadata": {
    "collapsed": false
   },
   "outputs": [],
   "source": [
    "# Reduce the graph if the node weighted degree is too small\n",
    "for u in G.nodes():\n",
    "    if G.degree(u,weight='weight')<10:\n",
    "        G.remove_node(u)"
   ]
  },
  {
   "cell_type": "code",
   "execution_count": null,
   "metadata": {
    "collapsed": false
   },
   "outputs": [],
   "source": [
    "G.size()"
   ]
  },
  {
   "cell_type": "code",
   "execution_count": null,
   "metadata": {
    "collapsed": true
   },
   "outputs": [],
   "source": [
    "# Write the graph to a json file\n",
    "from networkx.readwrite import json_graph\n",
    "datag = json_graph.node_link_data(G)\n",
    "import json\n",
    "s = json.dumps(datag)\n",
    "datag['links'] = [\n",
    "        {\n",
    "            'source': datag['nodes'][link['source']]['id'],\n",
    "            'target': datag['nodes'][link['target']]['id'],\n",
    "            'weight': link['weight']\n",
    "        }\n",
    "        for link in datag['links']]\n",
    "s = json.dumps(datag)\n",
    "with open(\"viz/graphM2.json\", \"w\") as f:\n",
    "    f.write(s)"
   ]
  },
  {
   "cell_type": "code",
   "execution_count": null,
   "metadata": {
    "collapsed": true
   },
   "outputs": [],
   "source": [
    "import matplotlib.pyplot as plt\n",
    "import pandas as pd"
   ]
  },
  {
   "cell_type": "code",
   "execution_count": null,
   "metadata": {
    "collapsed": false
   },
   "outputs": [],
   "source": [
    "#degreeDic = G.degree(weight='weight')\n",
    "degreeDic = G.degree()\n",
    "degreeslist = list(degreeDic.values())\n",
    "plt.hist(degreeslist,bins=35)\n",
    "plt.show()"
   ]
  },
  {
   "cell_type": "code",
   "execution_count": null,
   "metadata": {
    "collapsed": false
   },
   "outputs": [],
   "source": [
    "DF = pd.DataFrame.from_dict(degreeDic,orient='index')\n",
    "DF.columns = ['Degree']"
   ]
  },
  {
   "cell_type": "code",
   "execution_count": null,
   "metadata": {
    "collapsed": true
   },
   "outputs": [],
   "source": [
    "DF.sort_values(by='Degree', axis=0, ascending=False)"
   ]
  },
  {
   "cell_type": "code",
   "execution_count": null,
   "metadata": {
    "collapsed": false
   },
   "outputs": [],
   "source": [
    "degreeDic = G.degree(weight='weight')\n",
    "#degreeDic = G.degree()\n",
    "degreeslist = list(degreeDic.values())\n",
    "plt.hist(degreeslist,bins=100)\n",
    "plt.show()"
   ]
  },
  {
   "cell_type": "code",
   "execution_count": null,
   "metadata": {
    "collapsed": false
   },
   "outputs": [],
   "source": [
    "G.size()"
   ]
  },
  {
   "cell_type": "code",
   "execution_count": null,
   "metadata": {
    "collapsed": false
   },
   "outputs": [],
   "source": [
    "DF = pd.DataFrame.from_dict(degreeDic,orient='index')\n",
    "DF.columns = ['Degree']"
   ]
  },
  {
   "cell_type": "code",
   "execution_count": null,
   "metadata": {
    "collapsed": true
   },
   "outputs": [],
   "source": [
    "DF.sort_values(by='Degree', axis=0, ascending=False)"
   ]
  },
  {
   "cell_type": "markdown",
   "metadata": {
    "collapsed": true
   },
   "source": [
    "### Time evaluation"
   ]
  },
  {
   "cell_type": "code",
   "execution_count": 7,
   "metadata": {
    "collapsed": true
   },
   "outputs": [],
   "source": [
    "def time_slice(df,start_date,end_date):\n",
    "    # df must have a column 'date\n",
    "    # date are in datetime format\n",
    "    mask = (df['date'] > start_date) & (df['date'] <= end_date)\n",
    "    df_slice = df.loc[mask]\n",
    "    return df_slice"
   ]
  },
  {
   "cell_type": "markdown",
   "metadata": {},
   "source": [
    "### Create the multilayer graph"
   ]
  },
  {
   "cell_type": "code",
   "execution_count": 8,
   "metadata": {
    "collapsed": false
   },
   "outputs": [],
   "source": [
    "def layer_graph(df,timestamp):\n",
    "# for each text, create node for each keyword and connect to its following word \n",
    "    timestamp_str = '_'+timestamp.strftime(\"%Y-%m-%d\")\n",
    "    G = nx.DiGraph()\n",
    "    for row in df.itertuples():\n",
    "        text = row.filtered_text\n",
    "        #text = row.text\n",
    "        textlist = str(text).split()\n",
    "        for idx,word in enumerate(textlist):\n",
    "            #print(idx)\n",
    "            if (idx+1)<len(textlist):\n",
    "                next_word = textlist[idx+1]\n",
    "                word_id = word+timestamp_str\n",
    "                next_word_id = next_word+timestamp_str\n",
    "                # Adding the nodes\n",
    "                if not G.has_node(word_id):\n",
    "                    G.add_node(word_id,name=word,timestamp=timestamp)\n",
    "                if not G.has_node(next_word_id):\n",
    "                    G.add_node(next_word_id,name=next_word,timestamp=timestamp)\n",
    "                # Adding an edge\n",
    "                if G.has_edge(word_id,next_word_id):\n",
    "                    # we added this one before, just increase the weight by one\n",
    "                    G[word_id][next_word_id]['weight'] += 1\n",
    "                    tseries = G[word_id][next_word_id]['time_series']\n",
    "                    #print(tseries)\n",
    "                    #print(type(tseries))\n",
    "                    #print(type(row.date))\n",
    "                    tseries.append(row.date)\n",
    "                    #.append(row.date.strftime('%Y-%m-%d'))\n",
    "                    G[word_id][next_word_id]['time_series'] = tseries\n",
    "                else:\n",
    "                    # new edge. add with weight=1\n",
    "                    new_list = []\n",
    "                    new_list.append(row.date)\n",
    "                    G.add_edge(word_id, next_word_id, weight=1,time_series=new_list)\n",
    "    return G"
   ]
  },
  {
   "cell_type": "code",
   "execution_count": 9,
   "metadata": {
    "collapsed": false
   },
   "outputs": [],
   "source": [
    "def drop_edges(G,threshold=4):\n",
    "    for u,v,a in G.edges(data=True):\n",
    "        if a['weight']<threshold:\n",
    "            G.remove_edge(u,v)\n",
    "    return G"
   ]
  },
  {
   "cell_type": "code",
   "execution_count": 10,
   "metadata": {
    "collapsed": true
   },
   "outputs": [],
   "source": [
    "def get_node_name(node):\n",
    "    # return the name before the date (separated by a '_')\n",
    "    idx = node.rfind('_')\n",
    "    return node[:idx]"
   ]
  },
  {
   "cell_type": "code",
   "execution_count": 11,
   "metadata": {
    "collapsed": true
   },
   "outputs": [],
   "source": [
    "def connect_layer(H,G_old,G):\n",
    "    old_nodes = G_old.nodes()\n",
    "    for new_node in G.nodes():\n",
    "        new_node_name = get_node_name(new_node)\n",
    "        for old_node in G_old.nodes():\n",
    "            old_node_name = get_node_name(old_node)\n",
    "            if new_node_name == old_node_name:\n",
    "                H.add_edge(old_node,new_node,weight=100,label='interlayer')\n",
    "    return H"
   ]
  },
  {
   "cell_type": "code",
   "execution_count": 12,
   "metadata": {
    "collapsed": true
   },
   "outputs": [],
   "source": [
    "def range_date(start, end, delta):\n",
    "    curr = start\n",
    "    while curr < end:\n",
    "        yield curr\n",
    "        curr += delta"
   ]
  },
  {
   "cell_type": "code",
   "execution_count": 13,
   "metadata": {
    "collapsed": true
   },
   "outputs": [],
   "source": [
    "def date_to_int(date, start, end):\n",
    "    # return an int in[0,1]\n",
    "    # from a date between [start, end]\n",
    "    from datetime import timedelta\n",
    "    list_dates =[n for n in range_date(start, end+timedelta(days=1), timedelta(days=1))]\n",
    "    idx = list_dates.index(date)\n",
    "    if (len(list_dates)-1)>0:\n",
    "        value = idx/(len(list_dates)-1)\n",
    "    else:\n",
    "        value = 0\n",
    "    return value"
   ]
  },
  {
   "cell_type": "code",
   "execution_count": 14,
   "metadata": {
    "collapsed": false
   },
   "outputs": [],
   "source": [
    "def find_dates(G):\n",
    "    date_list = [ m for n,m in nx.get_node_attributes(G,'timestamp').items()]\n",
    "    start_date = min(date_list)\n",
    "    end_date = max(date_list)\n",
    "    return start_date,end_date"
   ]
  },
  {
   "cell_type": "code",
   "execution_count": 15,
   "metadata": {
    "collapsed": false
   },
   "outputs": [],
   "source": [
    "def add_relative_date(G):\n",
    "    import datetime\n",
    "    if nx.number_of_nodes(G)>0:\n",
    "        date_list = [ datetime.datetime.strptime(m,\"%d-%m-%Y\") for n,m in nx.get_node_attributes(G,'start_time').items()]\n",
    "        start_date = min(date_list)\n",
    "        end_date = max(date_list)\n",
    "        for (node,props) in G.nodes(data=True):\n",
    "            G.node[node]['color_rel'] = date_to_int(datetime.datetime.strptime(props['start_time'],\"%d-%m-%Y\"),start_date,end_date)\n",
    "    return G"
   ]
  },
  {
   "cell_type": "code",
   "execution_count": 16,
   "metadata": {
    "collapsed": false
   },
   "outputs": [],
   "source": [
    "def compress_component(G,threshold):\n",
    "    from collections import Counter\n",
    "    # nodes\n",
    "    node_list = [get_node_name(node) for node in G.nodes()] # name from id\n",
    "    nodes_dic = Counter(node_list)\n",
    "    nodes_t = [(name,{'nb_occur':nb_occur}) for (name,nb_occur) in nodes_dic.items() if nb_occur>threshold]\n",
    "    node_list = [name for (name,prop) in nodes_t]\n",
    "    if len(node_list)>0:\n",
    "        #node time\n",
    "        node_data = G.nodes(data=True)\n",
    "        #edges\n",
    "        edge_list = [(get_node_name(u),get_node_name(v)) for (u,v) in G.edges()]\n",
    "        edge_list = [(u,v) for (u,v) in edge_list if (u in node_list and v in node_list)]\n",
    "        edge_list = [(u,v) for (u,v) in edge_list if not (u == v)]\n",
    "        #graph\n",
    "        G2 = nx.DiGraph()\n",
    "        G2.graph['start_date']=G.graph['start_date'].strftime(\"%d-%m-%Y\")\n",
    "        G2.graph['end_date']=G.graph['end_date'].strftime(\"%d-%m-%Y\")\n",
    "        G2.add_nodes_from(nodes_t)\n",
    "        G2.add_edges_from(edge_list)\n",
    "        #G2 = max(nx.weakly_connected_component_subgraphs(G2), key=len)\n",
    "        G2.remove_nodes_from(nx.isolates(G2))\n",
    "        # time property\n",
    "        node_data = G.nodes(data=True)\n",
    "        start_date,end_date = find_dates(G)\n",
    "        #print(start_date,end_date)\n",
    "        for node in G2.nodes():\n",
    "            time_list = []\n",
    "            for (G_node,properties) in G.nodes(data=True):\n",
    "                if node in G_node:\n",
    "                    time_list.append(properties['timestamp'])\n",
    "            time_list.sort()\n",
    "            G2.node[node]['start_time']=time_list[0].strftime(\"%d-%m-%Y\")\n",
    "            G2.node[node]['name'] = node\n",
    "            G2.node[node]['color'] = date_to_int(time_list[0],G.graph['start_date'],G.graph['end_date'])\n",
    "            #print(date_to_int(time_list[0],start_date,end_date))\n",
    "            G2.node[node]['color_rel_full'] = date_to_int(time_list[0],start_date,end_date)\n",
    "            #G2.node[node]['time_length'] = len(time_list)\n",
    "            # relabel the nodes to take into account the first time stamp\n",
    "        G2 = add_relative_date(G2)\n",
    "        #[ print(props) for(name,props) in G2.nodes(data=True)]\n",
    "        dic_of_names = {name:name+'_'+props['start_time'] for(name,props) in G2.nodes(data=True) }\n",
    "        G3 = nx.relabel_nodes(G2,dic_of_names)\n",
    "        return G3\n",
    "    else:\n",
    "        return nx.DiGraph()"
   ]
  },
  {
   "cell_type": "markdown",
   "metadata": {},
   "source": [
    "### Create the multilayer graph of activity"
   ]
  },
  {
   "cell_type": "code",
   "execution_count": 17,
   "metadata": {
    "collapsed": false
   },
   "outputs": [],
   "source": [
    "import datetime\n",
    "from dateutil.relativedelta import relativedelta\n",
    "base = pd.datetime(2016,1,1)\n",
    "#three_mon_rel = relativedelta(months=3)\n",
    "month_list_2015 = [base + relativedelta(month=x) for x in range(1, 13)]"
   ]
  },
  {
   "cell_type": "code",
   "execution_count": 47,
   "metadata": {
    "collapsed": false
   },
   "outputs": [],
   "source": [
    "month = 5\n",
    "day_list = [month_list_2015[month-1]+datetime.timedelta(days=n) for n in range(31) \n",
    "            if month_list_2015[month-1]+datetime.timedelta(days=n)<month_list_2015[month]]"
   ]
  },
  {
   "cell_type": "code",
   "execution_count": 48,
   "metadata": {
    "collapsed": false
   },
   "outputs": [],
   "source": [
    "H = nx.DiGraph(start_date=day_list[0],end_date=day_list[-1])\n",
    "#start_date = pd.datetime(2015,1,1)\n",
    "#increment = datetime.timedelta(days=1)\n",
    "#end_date = start_date + increment\n",
    "weight_threshold = 50\n",
    "G_old = nx.DiGraph()\n",
    "#start_date = month_list_2015[0]\n",
    "#end_date = month_list_2015[1]\n",
    "for idx,day in enumerate(day_list):\n",
    "    # Compute the graph layer\n",
    "    data = time_slice(text_data,day,day+datetime.timedelta(days=1))\n",
    "    G = layer_graph(data,day)\n",
    "    G = drop_edges(G,weight_threshold)\n",
    "    color = idx/len(day_list)\n",
    "    nx.set_node_attributes(G,'color',color)\n",
    "    # Add the layer to the global graph\n",
    "    H.add_nodes_from(G.nodes(data=True))\n",
    "    H.add_edges_from(G.edges(data=True))\n",
    "    # Connect the layer\n",
    "    H = connect_layer(H,G_old,G)\n",
    "    ## update the date and loop\n",
    "    #start_date += increment\n",
    "    #end_date += increment\n",
    "    G_old = G\n"
   ]
  },
  {
   "cell_type": "code",
   "execution_count": 49,
   "metadata": {
    "collapsed": false
   },
   "outputs": [
    {
     "name": "stdout",
     "output_type": "stream",
     "text": [
      "Nb of edges: 14527, nb of nodes: 64422.\n"
     ]
    }
   ],
   "source": [
    "print('Nb of edges: {}, nb of nodes: {}.'.format(H.size(),len(H.nodes())))"
   ]
  },
  {
   "cell_type": "code",
   "execution_count": 50,
   "metadata": {
    "collapsed": true
   },
   "outputs": [],
   "source": [
    "H.remove_nodes_from(nx.isolates(H))"
   ]
  },
  {
   "cell_type": "code",
   "execution_count": 51,
   "metadata": {
    "collapsed": false
   },
   "outputs": [
    {
     "name": "stdout",
     "output_type": "stream",
     "text": [
      "Nb of edges: 14527, nb of nodes: 21578.\n"
     ]
    }
   ],
   "source": [
    "print('Nb of edges: {}, nb of nodes: {}.'.format(H.size(),len(H.nodes())))"
   ]
  },
  {
   "cell_type": "markdown",
   "metadata": {},
   "source": [
    "### Study of the largest component"
   ]
  },
  {
   "cell_type": "code",
   "execution_count": 52,
   "metadata": {
    "collapsed": false
   },
   "outputs": [],
   "source": [
    "#Gc = max(nx.weakly_connected_component_subgraphs(H), key=len)\n",
    "#G2 = compress_component(Gc,2)"
   ]
  },
  {
   "cell_type": "markdown",
   "metadata": {},
   "source": [
    "### Compress all the components"
   ]
  },
  {
   "cell_type": "code",
   "execution_count": 53,
   "metadata": {
    "collapsed": false
   },
   "outputs": [],
   "source": [
    "G_all = nx.DiGraph()\n",
    "for c in nx.weakly_connected_component_subgraphs(H):\n",
    "    cc = compress_component(c,1)\n",
    "    G_all = nx.compose(G_all,cc)"
   ]
  },
  {
   "cell_type": "code",
   "execution_count": 54,
   "metadata": {
    "collapsed": true
   },
   "outputs": [],
   "source": [
    "#[len(c) for c in nx.weakly_connected_component_subgraphs(H)]"
   ]
  },
  {
   "cell_type": "code",
   "execution_count": 55,
   "metadata": {
    "collapsed": false
   },
   "outputs": [
    {
     "data": {
      "text/plain": [
       "660"
      ]
     },
     "execution_count": 55,
     "metadata": {},
     "output_type": "execute_result"
    }
   ],
   "source": [
    "G_all.size()"
   ]
  },
  {
   "cell_type": "markdown",
   "metadata": {},
   "source": [
    "### Visualize the compressed components"
   ]
  },
  {
   "cell_type": "code",
   "execution_count": 44,
   "metadata": {
    "collapsed": true
   },
   "outputs": [],
   "source": [
    "import matplotlib.pyplot as plt"
   ]
  },
  {
   "cell_type": "code",
   "execution_count": null,
   "metadata": {
    "collapsed": false
   },
   "outputs": [],
   "source": [
    "nx.draw_spring(G_all)\n",
    "plt.show()"
   ]
  },
  {
   "cell_type": "code",
   "execution_count": 45,
   "metadata": {
    "collapsed": false
   },
   "outputs": [
    {
     "data": {
      "image/png": "[encoded data removed]",
      "text/plain": [
       "<matplotlib.figure.Figure at 0x7fe241f997b8>"
      ]
     },
     "metadata": {},
     "output_type": "display_data"
    }
   ],
   "source": [
    "nx.draw_networkx(G_all)\n",
    "plt.show()"
   ]
  },
  {
   "cell_type": "markdown",
   "metadata": {},
   "source": [
    "### Save the compressed components"
   ]
  },
  {
   "cell_type": "code",
   "execution_count": 56,
   "metadata": {
    "collapsed": false
   },
   "outputs": [],
   "source": [
    "from networkx.readwrite import json_graph\n",
    "import json\n",
    "json_filename = 'ccomponent.json'\n",
    "data = json_graph.node_link_data(G_all)\n",
    "#,attrs={'source': 'source', 'target': 'target','key': 'key', 'id': 'id', 'nb_occur':'nb_occur','start_time':'start_time','name':'name', 'color':'color'})#,'time_length':'time_length'})\n",
    "data['links'] = [\n",
    "        {\n",
    "            'source': data['nodes'][link['source']]['id'],\n",
    "            'target': data['nodes'][link['target']]['id']\n",
    "        }\n",
    "        for link in data['links']]\n",
    "s = json.dumps(data)\n",
    "with open(\"./viz/\"+json_filename, \"w\") as f:\n",
    "    f.write(s)"
   ]
  },
  {
   "cell_type": "code",
   "execution_count": null,
   "metadata": {
    "collapsed": false
   },
   "outputs": [],
   "source": [
    "# run a websever in the folder where the json file has been saved\n",
    "# python3 -m http.server --bind 127.0.0.1 8008\n",
    "\n",
    "import webbrowser\n",
    "url = 'http://localhost:8008/forcegraphmeme.html'+'?'+'file='+json_filename\n",
    "#webbrowser.open_new_tab(url)\n",
    "webbrowser.open_new(url)"
   ]
  },
  {
   "cell_type": "code",
   "execution_count": 57,
   "metadata": {
    "collapsed": false
   },
   "outputs": [
    {
     "data": {
      "text/plain": [
       "['Batshuayi_13-05-2016',\n",
       " 'faim_13-05-2016',\n",
       " 'comité_13-05-2016',\n",
       " 'seul_13-05-2016',\n",
       " 'proximité_13-05-2016',\n",
       " 'braqueur_13-05-2016',\n",
       " 'Interdiction_13-05-2016',\n",
       " 'partir_13-05-2016',\n",
       " 'pompier_13-05-2016',\n",
       " 'Parc_13-05-2016',\n",
       " 'finit_23-05-2016',\n",
       " 'série_01-05-2016',\n",
       " 'stupéfiants_24-05-2016',\n",
       " 'Opéra_13-05-2016',\n",
       " 'Vente_13-05-2016',\n",
       " 'jamais_13-05-2016',\n",
       " 'minutes_13-05-2016',\n",
       " 'Depardieu_13-05-2016',\n",
       " 'Netflix_01-05-2016',\n",
       " 'loin_13-05-2016',\n",
       " 'poumon_13-05-2016',\n",
       " 'départ_13-05-2016',\n",
       " 'Serre_13-05-2016',\n",
       " 'clichée_13-05-2016',\n",
       " 'mucoviscidose_13-05-2016',\n",
       " 'épisode_13-05-2016',\n",
       " 'joue_13-05-2016',\n",
       " 'motion_13-05-2016',\n",
       " 'Allison_13-05-2016',\n",
       " 'cartes_13-05-2016',\n",
       " 'zone_13-05-2016',\n",
       " 'opérateur_13-05-2016',\n",
       " 'Naturavignon_13-05-2016',\n",
       " 'annonce_13-05-2016',\n",
       " 'Coupe_13-05-2016',\n",
       " 'deuxième_13-05-2016',\n",
       " 'gare_13-05-2016',\n",
       " 'bio_13-05-2016',\n",
       " 'plein_05-05-2016',\n",
       " 'convoitée_13-05-2016',\n",
       " 'drogue_13-05-2016',\n",
       " 'the_13-05-2016',\n",
       " 'Mission_13-05-2016',\n",
       " 'vidéo_13-05-2016',\n",
       " 'groupe_13-05-2016',\n",
       " 'suspension_22-05-2016',\n",
       " 'mousser_13-05-2016',\n",
       " 'mangez_13-05-2016',\n",
       " 'mérite_13-05-2016',\n",
       " 'aveux_13-05-2016',\n",
       " 'Santé_13-05-2016',\n",
       " 'Ruche_13-05-2016',\n",
       " 'épisodes_13-05-2016',\n",
       " 'Bach_13-05-2016',\n",
       " 'carte_13-05-2016',\n",
       " 'Pertuis_13-05-2016',\n",
       " 'actu_13-05-2016',\n",
       " 'cité_04-05-2016',\n",
       " 'Ciotat_13-05-2016',\n",
       " 'dernier_13-05-2016',\n",
       " 'écope_13-05-2016',\n",
       " 'délit_24-05-2016',\n",
       " 'presse_13-05-2016',\n",
       " 'Barresi_13-05-2016',\n",
       " 'ticket_13-05-2016',\n",
       " 'numéro_13-05-2016',\n",
       " 'mis_13-05-2016',\n",
       " 'Découvrez_13-05-2016',\n",
       " 'renversé_22-05-2016',\n",
       " 'médecins_13-05-2016',\n",
       " 'visiter_13-05-2016',\n",
       " 'Vaucluse_13-05-2016',\n",
       " 'marches_13-05-2016',\n",
       " 'bonnes_13-05-2016',\n",
       " 'Michel_13-05-2016',\n",
       " 'entrer_13-05-2016',\n",
       " 'dit_13-05-2016',\n",
       " 'Chevalier_13-05-2016',\n",
       " 'conquête_13-05-2016',\n",
       " 'adoption_13-05-2016',\n",
       " 'rendez_13-05-2016',\n",
       " 'objectif_13-05-2016',\n",
       " 'déplace_13-05-2016',\n",
       " 'traces_13-05-2016',\n",
       " 'fans_13-05-2016',\n",
       " 'Sogima_13-05-2016',\n",
       " 'Alès_13-05-2016',\n",
       " 'épreuve_13-05-2016',\n",
       " 'juif_13-05-2016',\n",
       " 'Opération_13-05-2016',\n",
       " 'tromperies_13-05-2016',\n",
       " 'Auriol_13-05-2016',\n",
       " 'Rugby_13-05-2016',\n",
       " 'tous_13-05-2016',\n",
       " 'fessées_13-05-2016',\n",
       " 'roux_13-05-2016',\n",
       " 'lancé_13-05-2016',\n",
       " 'âge_13-05-2016',\n",
       " 'revue_13-05-2016',\n",
       " '@jmleforestier_14-05-2016',\n",
       " 'fonction_02-05-2016',\n",
       " 'Clarensac_13-05-2016',\n",
       " 'enfin_13-05-2016',\n",
       " 'marseillais_04-05-2016',\n",
       " 'ascensions_13-05-2016',\n",
       " 'prêt_13-05-2016',\n",
       " 'édition_13-05-2016',\n",
       " 'parcours_13-05-2016',\n",
       " 'Marc_13-05-2016',\n",
       " 'frapper_13-05-2016',\n",
       " 'bien_13-05-2016',\n",
       " 'Bingo_13-05-2016',\n",
       " 'officiel_13-05-2016',\n",
       " 'vogue_13-05-2016',\n",
       " 'Maison_13-05-2016',\n",
       " 'Sécurité_13-05-2016',\n",
       " 'plaît_13-05-2016',\n",
       " '#MarseilleNetflix_13-05-2016',\n",
       " '2016_02-05-2016',\n",
       " 'vedette_13-05-2016',\n",
       " 'casque_13-05-2016',\n",
       " 'Emmaüs_13-05-2016',\n",
       " 'Ecrins_13-05-2016',\n",
       " 'Robert_13-05-2016',\n",
       " 'Cap_13-05-2016',\n",
       " 'maintenant_13-05-2016',\n",
       " 'trace_13-05-2016',\n",
       " 'beaucoup_13-05-2016',\n",
       " 'mise_13-05-2016',\n",
       " 'car_13-05-2016',\n",
       " 'Tentez_13-05-2016',\n",
       " 'résurrection_13-05-2016',\n",
       " 'sans_13-05-2016',\n",
       " 'Rio_13-05-2016',\n",
       " 'musée_13-05-2016',\n",
       " 'meilleur_13-05-2016',\n",
       " 'Julia_13-05-2016',\n",
       " 'Renaud_13-05-2016',\n",
       " 'volontaire_13-05-2016',\n",
       " 'conduite_24-05-2016',\n",
       " 'mois_23-05-2016',\n",
       " 'portiques_13-05-2016',\n",
       " 'Cards_04-05-2016',\n",
       " 'député_13-05-2016',\n",
       " 'rock_13-05-2016',\n",
       " 'salle_13-05-2016',\n",
       " 'pâte_13-05-2016',\n",
       " 'concret_13-05-2016',\n",
       " 'marché_13-05-2016',\n",
       " '..._04-05-2016',\n",
       " 'témoins_13-05-2016',\n",
       " 'Franck_04-05-2016',\n",
       " 'end_13-05-2016',\n",
       " 'croissance_13-05-2016',\n",
       " 'bravos_13-05-2016',\n",
       " 'million_13-05-2016',\n",
       " 'lève_13-05-2016',\n",
       " 'Vélodrome_13-05-2016',\n",
       " '9ème_13-05-2016',\n",
       " 'zlataner_13-05-2016',\n",
       " 'montée_13-05-2016',\n",
       " 'Forum_13-05-2016',\n",
       " 'Margé_13-05-2016',\n",
       " 'loupe_13-05-2016',\n",
       " 'espace_13-05-2016',\n",
       " 'France_13-05-2016',\n",
       " 'Bel_13-05-2016',\n",
       " 'assure_13-05-2016',\n",
       " 'populaire_13-05-2016',\n",
       " 'appel_13-05-2016',\n",
       " 'affaire_13-05-2016',\n",
       " 'écureuil_13-05-2016',\n",
       " 'Marcelle_13-05-2016',\n",
       " 'fin_13-05-2016',\n",
       " 'correctionnel_22-05-2016',\n",
       " 'titre_13-05-2016',\n",
       " 'Robert_04-05-2016',\n",
       " 'Gérard_04-05-2016',\n",
       " 'nettoyer_13-05-2016',\n",
       " 'dérogation_13-05-2016',\n",
       " 'truc_13-05-2016',\n",
       " 'café_13-05-2016',\n",
       " 'tensions_13-05-2016',\n",
       " 'Tout_13-05-2016',\n",
       " 'monde_13-05-2016',\n",
       " 'involontaires_24-05-2016',\n",
       " 'Fête_13-05-2016',\n",
       " 'Miss_13-05-2016',\n",
       " 'Vitropole_13-05-2016',\n",
       " 'euros_22-05-2016',\n",
       " 'finance_13-05-2016',\n",
       " 'campus_13-05-2016',\n",
       " 'nouvelle_04-05-2016',\n",
       " 'Depardieu_01-05-2016',\n",
       " 'Ronde_13-05-2016',\n",
       " 'cadre_13-05-2016',\n",
       " 'Grand_13-05-2016',\n",
       " 'épisode_05-05-2016',\n",
       " 'art_13-05-2016',\n",
       " 'locomotives_13-05-2016',\n",
       " 'moindre_13-05-2016',\n",
       " 'couture_13-05-2016',\n",
       " 'festival_13-05-2016',\n",
       " 'Euro_13-05-2016',\n",
       " 'Boire_13-05-2016',\n",
       " 'viandes_13-05-2016',\n",
       " 'après_22-05-2016',\n",
       " 'tout_13-05-2016',\n",
       " 'écolo_13-05-2016',\n",
       " 'recyclée_13-05-2016',\n",
       " 'bois_13-05-2016',\n",
       " 'vers_13-05-2016',\n",
       " 'émotions_13-05-2016',\n",
       " 'sort_13-05-2016',\n",
       " 'croisières_13-05-2016',\n",
       " 'diméthoate_13-05-2016',\n",
       " 'Magimel_13-05-2016',\n",
       " 'ligne_13-05-2016',\n",
       " 'Forts_13-05-2016',\n",
       " 'www_13-05-2016',\n",
       " 'Zlatan_13-05-2016',\n",
       " 'arts_13-05-2016',\n",
       " 'CFA_13-05-2016',\n",
       " 'vite_13-05-2016',\n",
       " 'ville_13-05-2016',\n",
       " 'Leboeuf_13-05-2016',\n",
       " 'sec_13-05-2016',\n",
       " 'cet_13-05-2016',\n",
       " 'ans_13-05-2016',\n",
       " 'tests_13-05-2016',\n",
       " 'deveniez_13-05-2016',\n",
       " 'Paris_13-05-2016',\n",
       " 'Nature_13-05-2016',\n",
       " 'série_13-05-2016',\n",
       " 'vérité_13-05-2016',\n",
       " 'Département_13-05-2016',\n",
       " 'rappel_13-05-2016',\n",
       " 'délocalisation_13-05-2016',\n",
       " 'menacent_13-05-2016',\n",
       " 'comme_13-05-2016',\n",
       " 'cirque_13-05-2016',\n",
       " 'hantée_13-05-2016',\n",
       " 'Foire_13-05-2016',\n",
       " 'futur_13-05-2016',\n",
       " 'bel_13-05-2016',\n",
       " 'Première_13-05-2016',\n",
       " 'Mornas_13-05-2016',\n",
       " 'Alpes_13-05-2016',\n",
       " 'quitte_13-05-2016',\n",
       " 'Trail_13-05-2016',\n",
       " 'espoirs_13-05-2016',\n",
       " 'Vauzelle_13-05-2016',\n",
       " 'tribunal_22-05-2016',\n",
       " 'Woerth_13-05-2016',\n",
       " 'actrice_13-05-2016',\n",
       " 'Paris_22-05-2016',\n",
       " 'assassinat_13-05-2016',\n",
       " 'flou_13-05-2016',\n",
       " 'Roi_13-05-2016',\n",
       " 'Transferts_13-05-2016',\n",
       " 'année_13-05-2016',\n",
       " 'jours_13-05-2016',\n",
       " 'local_13-05-2016',\n",
       " 'Avignon_13-05-2016',\n",
       " 'toros_13-05-2016',\n",
       " 'Rouet_13-05-2016',\n",
       " 'Européens_13-05-2016',\n",
       " 'TF1_13-05-2016',\n",
       " 'invite_13-05-2016',\n",
       " 'consommation_13-05-2016',\n",
       " 'remporter_13-05-2016',\n",
       " 'Air_13-05-2016',\n",
       " 'meurtre_13-05-2016',\n",
       " 'douteux_13-05-2016',\n",
       " 'port_13-05-2016',\n",
       " 'soir_13-05-2016',\n",
       " 'rugby_13-05-2016',\n",
       " 'Bernard_13-05-2016',\n",
       " 'combat_13-05-2016',\n",
       " 'secrets_13-05-2016',\n",
       " 'Châteaurenard_13-05-2016',\n",
       " 'film_13-05-2016',\n",
       " 'convention_13-05-2016',\n",
       " 'Inscrivez_13-05-2016',\n",
       " 'Luc_13-05-2016',\n",
       " 'scolaire_13-05-2016',\n",
       " 'téléspectateurs_13-05-2016',\n",
       " 'ends_13-05-2016',\n",
       " 'aéronautique_13-05-2016',\n",
       " 'sapeur_13-05-2016',\n",
       " 'ouvrira_13-05-2016',\n",
       " 'Frank_13-05-2016',\n",
       " 'Antoine_13-05-2016',\n",
       " 'Marseille_13-05-2016',\n",
       " 'entame_13-05-2016',\n",
       " 'week_13-05-2016',\n",
       " 'Salon_13-05-2016',\n",
       " 'confite_13-05-2016',\n",
       " 'étonne_13-05-2016',\n",
       " 'Pro_13-05-2016',\n",
       " 'isolements_13-05-2016',\n",
       " 'accusations_13-05-2016',\n",
       " 'Aïcha_13-05-2016',\n",
       " 'photos_13-05-2016',\n",
       " 'matinales_13-05-2016',\n",
       " 'confirmé_13-05-2016',\n",
       " 'Madrid_13-05-2016',\n",
       " 'DHR_13-05-2016',\n",
       " 'écologiques_13-05-2016',\n",
       " 'essentiel_13-05-2016',\n",
       " 'rue_13-05-2016',\n",
       " 'gagner_13-05-2016',\n",
       " 'Feria_13-05-2016',\n",
       " 'censure_13-05-2016',\n",
       " 'dimanche_13-05-2016',\n",
       " 'écoles_13-05-2016',\n",
       " 'occasion_13-05-2016',\n",
       " 'UEFA_13-05-2016',\n",
       " 'grandiose_13-05-2016',\n",
       " 'mois_13-05-2016',\n",
       " 'Urban_13-05-2016',\n",
       " 'partenaire_13-05-2016',\n",
       " 'sport_13-05-2016',\n",
       " 'très_13-05-2016',\n",
       " 'milliers_13-05-2016',\n",
       " 'examen_13-05-2016',\n",
       " 'Giro_13-05-2016',\n",
       " 'rayon_13-05-2016',\n",
       " 'magazine_13-05-2016',\n",
       " 'cas_13-05-2016',\n",
       " 'Festival_13-05-2016',\n",
       " 'cadeaux_13-05-2016',\n",
       " 'entrave_13-05-2016',\n",
       " 'Gaudin_13-05-2016',\n",
       " 'revient_13-05-2016',\n",
       " 'Plus_13-05-2016',\n",
       " 'autour_13-05-2016',\n",
       " 'spatial_13-05-2016',\n",
       " 'qualité_13-05-2016',\n",
       " 'Voitures_13-05-2016',\n",
       " 'sait_13-05-2016',\n",
       " '@Ines_assia_13-05-2016',\n",
       " 'patients_13-05-2016',\n",
       " 'spectacle_13-05-2016',\n",
       " 'Jean_13-05-2016',\n",
       " 'ailleurs_13-05-2016',\n",
       " 'éducation_13-05-2016',\n",
       " 'exploit_13-05-2016',\n",
       " 'bataille_13-05-2016',\n",
       " 'amende_22-05-2016',\n",
       " 'Gens_13-05-2016',\n",
       " 'serie_13-05-2016',\n",
       " 'premiers_13-05-2016',\n",
       " 'mai_13-05-2016',\n",
       " 'oui_13-05-2016',\n",
       " 'exposition_13-05-2016',\n",
       " 'greffes_13-05-2016',\n",
       " 'chercheurs_13-05-2016',\n",
       " 'découverte_13-05-2016',\n",
       " 'matchs_13-05-2016',\n",
       " 'dès_04-05-2016',\n",
       " 'Germain_13-05-2016',\n",
       " 'embraser_13-05-2016',\n",
       " 'Estrosi_13-05-2016',\n",
       " 'supérette_13-05-2016',\n",
       " 'abonné_13-05-2016',\n",
       " 'Dehors_13-05-2016',\n",
       " 'promet_13-05-2016',\n",
       " 'lancent_13-05-2016',\n",
       " 'Loto_13-05-2016',\n",
       " 'reconnu_22-05-2016',\n",
       " 'charge_13-05-2016',\n",
       " 'quartiers_13-05-2016',\n",
       " 'fuite_24-05-2016',\n",
       " 'balade_13-05-2016',\n",
       " 'Borély_13-05-2016',\n",
       " 'ouverts_13-05-2016',\n",
       " 'Horizon_13-05-2016',\n",
       " 'dauphine_13-05-2016',\n",
       " 'places_13-05-2016',\n",
       " 'perdu_13-05-2016',\n",
       " '@SeriousCharly_13-05-2016',\n",
       " 'maintien_13-05-2016',\n",
       " 'Seas_13-05-2016',\n",
       " 'allumez_13-05-2016',\n",
       " 'Marseille_01-05-2016',\n",
       " 'adresses_13-05-2016',\n",
       " 'Métropole_13-05-2016',\n",
       " 'faible_13-05-2016',\n",
       " 'Benoît_13-05-2016',\n",
       " 'Aix_13-05-2016',\n",
       " '2016_13-05-2016',\n",
       " 'séjours_13-05-2016',\n",
       " 'française_04-05-2016',\n",
       " 'nouveau_13-05-2016',\n",
       " 'origine_13-05-2016',\n",
       " 'Zika_13-05-2016',\n",
       " 'femme_04-05-2016',\n",
       " 'santé_13-05-2016',\n",
       " 'arrivent_13-05-2016',\n",
       " 'Fos_13-05-2016',\n",
       " 'russe_13-05-2016',\n",
       " 'tabac_13-05-2016',\n",
       " 'obligé_13-05-2016',\n",
       " 'assurent_13-05-2016',\n",
       " 'signe_13-05-2016',\n",
       " 'Van_13-05-2016',\n",
       " 'polémique_13-05-2016',\n",
       " 'campagne_13-05-2016',\n",
       " 'Tous_13-05-2016',\n",
       " 'plus_13-05-2016',\n",
       " 'virtuose_13-05-2016',\n",
       " 'Économie_13-05-2016',\n",
       " 'rencontre_13-05-2016',\n",
       " 'Magimel_04-05-2016',\n",
       " 'suivre_13-05-2016',\n",
       " 'Retrouvez_13-05-2016',\n",
       " 'Zordi_13-05-2016',\n",
       " 'automne_13-05-2016',\n",
       " 'économie_13-05-2016',\n",
       " 'Celestini_13-05-2016',\n",
       " '250_13-05-2016',\n",
       " 'Harmony_13-05-2016',\n",
       " 'ère_13-05-2016',\n",
       " 'fille_22-05-2016',\n",
       " 'Dol_13-05-2016',\n",
       " 'Fais_13-05-2016',\n",
       " 'samedi_13-05-2016',\n",
       " 'Laure_13-05-2016',\n",
       " 'propres_13-05-2016',\n",
       " 'disponible_13-05-2016',\n",
       " 'entre_13-05-2016',\n",
       " 'millions_13-05-2016',\n",
       " 'Benoît_04-05-2016',\n",
       " 'avis_13-05-2016',\n",
       " 'Dan_04-05-2016',\n",
       " 'soleil_13-05-2016',\n",
       " 'maintenant_04-05-2016',\n",
       " 'paré_13-05-2016',\n",
       " 'présidence_13-05-2016',\n",
       " 'génie_13-05-2016',\n",
       " 'Novembre_13-05-2016',\n",
       " 'commerçante_13-05-2016',\n",
       " 'Rognes_13-05-2016',\n",
       " 'risque_13-05-2016',\n",
       " 'sous_24-05-2016',\n",
       " 'après_13-05-2016',\n",
       " 'coup_13-05-2016',\n",
       " 'chefs_13-05-2016',\n",
       " 'haute_13-05-2016',\n",
       " 'inédites_13-05-2016',\n",
       " 'enfants_13-05-2016',\n",
       " 'sud_13-05-2016',\n",
       " 'Gogh_13-05-2016',\n",
       " 'professeur_13-05-2016',\n",
       " 'Arles_13-05-2016',\n",
       " 'Quinze_13-05-2016',\n",
       " 'plateau_13-05-2016',\n",
       " 'Secours_13-05-2016',\n",
       " 'Lim_13-05-2016',\n",
       " 'train_13-05-2016',\n",
       " 'MLD_13-05-2016',\n",
       " 'meubles_13-05-2016',\n",
       " 'grève_13-05-2016',\n",
       " 'sauver_13-05-2016',\n",
       " 'Picasso_13-05-2016',\n",
       " 'Ibrahimovic_13-05-2016',\n",
       " 'durable_13-05-2016',\n",
       " 'lance_13-05-2016',\n",
       " 'cerise_13-05-2016',\n",
       " 'activités_13-05-2016',\n",
       " 'aller_13-05-2016',\n",
       " 'seulement_13-05-2016',\n",
       " 'étrange_13-05-2016',\n",
       " 'Entraîner_13-05-2016',\n",
       " 'quelques_13-05-2016',\n",
       " 'Italia_13-05-2016',\n",
       " 'Passi_13-05-2016',\n",
       " 'petite_13-05-2016',\n",
       " 'Lumières_13-05-2016',\n",
       " 'perturbateurs_13-05-2016',\n",
       " 'témoignages_13-05-2016',\n",
       " 'Six_13-05-2016',\n",
       " 'main_13-05-2016',\n",
       " 'fait_13-05-2016',\n",
       " 'Poste_13-05-2016',\n",
       " 'permis_22-05-2016',\n",
       " 'Martigues_13-05-2016',\n",
       " 'chance_13-05-2016',\n",
       " 'affronter_13-05-2016',\n",
       " 'phocéenne_04-05-2016',\n",
       " 'feu_13-05-2016',\n",
       " 'situations_13-05-2016',\n",
       " 'Tuberculose_13-05-2016',\n",
       " 'Cup_13-05-2016',\n",
       " 'aime_24-05-2016',\n",
       " 'tentative_13-05-2016',\n",
       " 'doit_13-05-2016',\n",
       " 'House_04-05-2016',\n",
       " 'difficiles_13-05-2016',\n",
       " 'boutique_13-05-2016',\n",
       " 'recettes_13-05-2016',\n",
       " 'texte_13-05-2016',\n",
       " 'lecteurs_13-05-2016',\n",
       " 'Strasbourg_13-05-2016',\n",
       " 'prend_13-05-2016',\n",
       " 'Basket_13-05-2016',\n",
       " 'défilé_13-05-2016',\n",
       " 'piqûre_13-05-2016',\n",
       " 'enfance_13-05-2016',\n",
       " 'abonnés_13-05-2016',\n",
       " 'enflammer_13-05-2016',\n",
       " 'aussi_13-05-2016',\n",
       " 'prendre_13-05-2016',\n",
       " 'poursuit_13-05-2016',\n",
       " 'projet_13-05-2016',\n",
       " 'table_13-05-2016',\n",
       " 'Taro_04-05-2016',\n",
       " 'Vendredi_13-05-2016',\n",
       " 'laisser_13-05-2016',\n",
       " 'âne_13-05-2016',\n",
       " 'Disparition_13-05-2016',\n",
       " 'jamais_04-05-2016',\n",
       " 'continue_13-05-2016',\n",
       " 'rencontres_13-05-2016',\n",
       " 'tranchés_13-05-2016',\n",
       " 'contre_13-05-2016',\n",
       " 'coupable_24-05-2016',\n",
       " 'exemple_13-05-2016',\n",
       " 'dieux_13-05-2016',\n",
       " 'Mucem_13-05-2016',\n",
       " 'éteinte_13-05-2016',\n",
       " 'développement_13-05-2016',\n",
       " 'premier_13-05-2016',\n",
       " 'Netflix_13-05-2016',\n",
       " 'Roberts_13-05-2016',\n",
       " 'supplémentaire_13-05-2016',\n",
       " 'inédit_13-05-2016',\n",
       " 'Entreprendre_13-05-2016',\n",
       " 'guerre_13-05-2016',\n",
       " '#MarseilleNetflix_04-05-2016',\n",
       " 'toujours_13-05-2016',\n",
       " 'Expo_13-05-2016',\n",
       " 'numérique_13-05-2016',\n",
       " 'dernière_13-05-2016',\n",
       " 'joueront_13-05-2016',\n",
       " 'match_13-05-2016',\n",
       " 'accomplie_13-05-2016',\n",
       " 'Exclusivité_13-05-2016',\n",
       " 'fois_13-05-2016',\n",
       " 'extrêmes_13-05-2016',\n",
       " 'accueillis_13-05-2016',\n",
       " 'Gap_13-05-2016',\n",
       " 'gardés_13-05-2016',\n",
       " 'Carry_13-05-2016',\n",
       " 'avoir_22-05-2016',\n",
       " 'refusés_13-05-2016',\n",
       " 'fortes_13-05-2016',\n",
       " 'mai_02-05-2016',\n",
       " 'rapides_13-05-2016',\n",
       " 'rêve_04-05-2016',\n",
       " 'endocriniens_13-05-2016',\n",
       " 'lutter_13-05-2016',\n",
       " 'tourisme_13-05-2016',\n",
       " 'pluie_13-05-2016',\n",
       " 'mer_13-05-2016',\n",
       " 'première_01-05-2016',\n",
       " 'Entre_13-05-2016',\n",
       " 'diganostics_13-05-2016',\n",
       " 'rideau_13-05-2016',\n",
       " 'découvrir_13-05-2016',\n",
       " 'familles_13-05-2016',\n",
       " 'air_04-05-2016',\n",
       " 'Ventoux_13-05-2016',\n",
       " 'raté_13-05-2016',\n",
       " 'centaine_13-05-2016',\n",
       " '000_13-05-2016',\n",
       " 'idéal_13-05-2016',\n",
       " 'Fiveten_13-05-2016',\n",
       " 'découragé_13-05-2016',\n",
       " 'meublés_13-05-2016',\n",
       " 'montagnes_13-05-2016',\n",
       " 'Eric_13-05-2016',\n",
       " 'grand_13-05-2016',\n",
       " 'forum_13-05-2016',\n",
       " 'palestiniens_13-05-2016',\n",
       " 'devenir_04-05-2016',\n",
       " 'U19_13-05-2016',\n",
       " 'Extension_13-05-2016',\n",
       " 'deux_13-05-2016',\n",
       " 'Gérard_13-05-2016',\n",
       " 'Cannes_13-05-2016',\n",
       " 'Provence_13-05-2016',\n",
       " 'transferts_13-05-2016',\n",
       " 'meilleurs_13-05-2016',\n",
       " 'blessures_24-05-2016',\n",
       " 'prêts_13-05-2016',\n",
       " 'jeu_13-05-2016',\n",
       " 'Training_13-05-2016',\n",
       " 'solidaire_13-05-2016']"
      ]
     },
     "execution_count": 57,
     "metadata": {},
     "output_type": "execute_result"
    }
   ],
   "source": [
    "G_all.nodes()"
   ]
  },
  {
   "cell_type": "code",
   "execution_count": null,
   "metadata": {
    "collapsed": true
   },
   "outputs": [],
   "source": []
  }
 ],
 "metadata": {
  "kernelspec": {
   "display_name": "Python 3",
   "language": "python",
   "name": "python3"
  },
  "language_info": {
   "codemirror_mode": {
    "name": "ipython",
    "version": 3
   },
   "file_extension": ".py",
   "mimetype": "text/x-python",
   "name": "python",
   "nbconvert_exporter": "python",
   "pygments_lexer": "ipython3",
   "version": "3.5.2"
  }
 },
 "nbformat": 4,
 "nbformat_minor": 1
}
