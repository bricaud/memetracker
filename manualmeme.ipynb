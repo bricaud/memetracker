{
 "cells": [
  {
   "cell_type": "markdown",
   "metadata": {},
   "source": [
    "## Creating a graph from text data"
   ]
  },
  {
   "cell_type": "markdown",
   "metadata": {},
   "source": [
    "### Loading the text data"
   ]
  },
  {
   "cell_type": "code",
   "execution_count": 4,
   "metadata": {
    "collapsed": true
   },
   "outputs": [],
   "source": [
    "import pandas as pd\n",
    "import itertools"
   ]
  },
  {
   "cell_type": "code",
   "execution_count": 5,
   "metadata": {
    "collapsed": false
   },
   "outputs": [],
   "source": [
    "graph_data_path = '/home/benjamin/Documents/memetracker/Data/graph/'\n",
    "pickle_data_path = '/home/benjamin/Documents/memetracker/Data/pickle/'\n",
    "series_name = 'baron_noir'\n",
    "pickle_file = pickle_data_path+series_name+'_texts'+'.pkl'\n",
    "vocab_file = pickle_data_path+series_name+'_vocab_bow'+'.pkl'\n",
    "tfidf_file = pickle_data_path+series_name+'_vocab_tfidf'+'.pkl'"
   ]
  },
  {
   "cell_type": "code",
   "execution_count": 76,
   "metadata": {
    "collapsed": true
   },
   "outputs": [],
   "source": [
    "text_data = pd.read_pickle(pickle_file)\n",
    "vocab_data = pd.read_pickle(vocab_file)\n",
    "tfidf_data = pd.read_pickle(tfidf_file)"
   ]
  },
  {
   "cell_type": "code",
   "execution_count": 77,
   "metadata": {
    "collapsed": true
   },
   "outputs": [],
   "source": [
    "# create the set of most used words\n",
    "nb_words = 200\n",
    "word_set = set(tfidf_data.words[0:nb_words])"
   ]
  },
  {
   "cell_type": "markdown",
   "metadata": {},
   "source": [
    "###  Selecting documents with particular keywords"
   ]
  },
  {
   "cell_type": "code",
   "execution_count": 78,
   "metadata": {
    "collapsed": false
   },
   "outputs": [],
   "source": [
    "candidat_meme = \"baron politique colère noire\" # Un baron de la politique dans une colère noire\n",
    "candidat_meme = \"Baron Noir bleu\" #- \"Quand le Baron Noir se met au bleu, ça ne passe pas dans l’hémicycle ...\"\n",
    "#candidat_meme =  \"Baron Rose\"#- \"Quoi, vous ne connaissez pas le Baron Rose ?\"\n",
    "candidat_meme = \"député\"#- \"Le député qui murmurait à l'oreille des lycéens.\"\n",
    "selected_Keywords = set(candidat_meme.split())\n",
    "data_subset = []\n",
    "for text in text_data.text:\n",
    "    if len(set(str(text).split())&selected_Keywords)>=(len(selected_Keywords)):\n",
    "        data_subset.append(text)"
   ]
  },
  {
   "cell_type": "code",
   "execution_count": 79,
   "metadata": {
    "collapsed": false
   },
   "outputs": [
    {
     "data": {
      "text/plain": [
       "1"
      ]
     },
     "execution_count": 79,
     "metadata": {},
     "output_type": "execute_result"
    }
   ],
   "source": [
    "len(selected_Keywords)"
   ]
  },
  {
   "cell_type": "code",
   "execution_count": 80,
   "metadata": {
    "collapsed": false
   },
   "outputs": [
    {
     "data": {
      "text/plain": [
       "420"
      ]
     },
     "execution_count": 80,
     "metadata": {},
     "output_type": "execute_result"
    }
   ],
   "source": [
    "len(data_subset)"
   ]
  },
  {
   "cell_type": "markdown",
   "metadata": {},
   "source": [
    "### Creating the graph"
   ]
  },
  {
   "cell_type": "code",
   "execution_count": 81,
   "metadata": {
    "collapsed": false
   },
   "outputs": [],
   "source": [
    "import networkx as nx\n",
    "import matplotlib.pyplot as plt"
   ]
  },
  {
   "cell_type": "code",
   "execution_count": 82,
   "metadata": {
    "collapsed": false
   },
   "outputs": [],
   "source": [
    "G = nx.Graph()"
   ]
  },
  {
   "cell_type": "code",
   "execution_count": 83,
   "metadata": {
    "collapsed": true
   },
   "outputs": [],
   "source": [
    "# Add the nodes\n",
    "G.add_nodes_from(word_set)"
   ]
  },
  {
   "cell_type": "code",
   "execution_count": 84,
   "metadata": {
    "collapsed": false
   },
   "outputs": [],
   "source": [
    "# Connect the nodes if they appear in the same text\n",
    "# the weight is proportional to the number of co-occurences\n",
    "for text in data_subset:\n",
    "    common_words = set(str(text).split())&word_set\n",
    "    edge_list = list(itertools.combinations(common_words, 2))\n",
    "    #G.add_edges_from(edge_list)\n",
    "    for edge in edge_list:\n",
    "        if G.has_edge(edge[0],edge[1]):\n",
    "            # we added this one before, just increase the weight by one\n",
    "            G[edge[0]][edge[1]]['weight'] += 1\n",
    "        else:\n",
    "            # new edge. add with weight=1\n",
    "            G.add_edge(edge[0], edge[1], weight=1)"
   ]
  },
  {
   "cell_type": "code",
   "execution_count": 85,
   "metadata": {
    "collapsed": false
   },
   "outputs": [
    {
     "data": {
      "image/png": "[encoded data removed]",
      "text/plain": [
       "<matplotlib.figure.Figure at 0x7fd92446beb8>"
      ]
     },
     "metadata": {},
     "output_type": "display_data"
    }
   ],
   "source": [
    "nx.draw_spring(G)\n",
    "plt.show()"
   ]
  },
  {
   "cell_type": "markdown",
   "metadata": {},
   "source": [
    "### Community detection"
   ]
  },
  {
   "cell_type": "code",
   "execution_count": 86,
   "metadata": {
    "collapsed": false
   },
   "outputs": [],
   "source": [
    "import community"
   ]
  },
  {
   "cell_type": "code",
   "execution_count": 87,
   "metadata": {
    "collapsed": true
   },
   "outputs": [],
   "source": [
    "#first compute the best partition\n",
    "clusterDic = community.best_partition(G)"
   ]
  },
  {
   "cell_type": "code",
   "execution_count": 88,
   "metadata": {
    "collapsed": false
   },
   "outputs": [
    {
     "data": {
      "image/png": "[encoded data removed]",
      "text/plain": [
       "<matplotlib.figure.Figure at 0x7fd912fb0898>"
      ]
     },
     "metadata": {},
     "output_type": "display_data"
    }
   ],
   "source": [
    "#drawing\n",
    "partition = clusterDic\n",
    "size = float(len(set(partition.values())))\n",
    "pos = nx.spring_layout(G)\n",
    "count = 0.\n",
    "for com in set(partition.values()) :\n",
    "    count = count + 1.\n",
    "    list_nodes = [nodes for nodes in partition.keys()\n",
    "                                if partition[nodes] == com]\n",
    "    nx.draw_networkx_nodes(G, pos, list_nodes, node_size = 20,\n",
    "                                node_color = str(count / size))\n",
    "\n",
    "\n",
    "nx.draw_networkx_edges(G,pos, alpha=0.5)\n",
    "plt.show()"
   ]
  },
  {
   "cell_type": "code",
   "execution_count": 89,
   "metadata": {
    "collapsed": false
   },
   "outputs": [],
   "source": [
    "nx.set_node_attributes(G,'cluster',clusterDic)"
   ]
  },
  {
   "cell_type": "markdown",
   "metadata": {},
   "source": [
    "### Thresholding the edges"
   ]
  },
  {
   "cell_type": "code",
   "execution_count": 90,
   "metadata": {
    "collapsed": false
   },
   "outputs": [],
   "source": [
    "# Extracting the edge information\n",
    "#sum_weight = 0\n",
    "#n_edges = 0\n",
    "#for u,v,a in G.edges(data=True):\n",
    "#    sum_weight+=a['weight']\n",
    "#    n_edges+=1\n",
    "#average_weight = sum_weight*1.0/n_edges"
   ]
  },
  {
   "cell_type": "code",
   "execution_count": 91,
   "metadata": {
    "collapsed": false
   },
   "outputs": [],
   "source": [
    "# Node properties: degree and centrality\n",
    "degreeDic = G.degree(weight='weight')\n",
    "nx.set_node_attributes(G,'degree',degreeDic)\n",
    "bcDic = nx.betweenness_centrality(G)\n",
    "nx.set_node_attributes(G,'bCentrality',bcDic)"
   ]
  },
  {
   "cell_type": "code",
   "execution_count": 92,
   "metadata": {
    "collapsed": false
   },
   "outputs": [],
   "source": [
    "# Rescaling edge weights\n",
    "n1,n2,weights = zip(*G.edges(data='weight'))\n",
    "edges_id=list(zip(n1,n2))"
   ]
  },
  {
   "cell_type": "code",
   "execution_count": 93,
   "metadata": {
    "collapsed": false
   },
   "outputs": [
    {
     "name": "stdout",
     "output_type": "stream",
     "text": [
      "mean weight: 25.4574766778, max weight: 270\n"
     ]
    }
   ],
   "source": [
    "import numpy as np\n",
    "print('mean weight: '+str(np.mean(weights))+', max weight: '+str(np.max(weights)))"
   ]
  },
  {
   "cell_type": "code",
   "execution_count": 94,
   "metadata": {
    "collapsed": false
   },
   "outputs": [],
   "source": [
    "weights_n=weights/np.max(weights)\n",
    "weights_n_dic=dict(zip(edges_id,weights_n)) \n",
    "nx.set_edge_attributes(G,'weight',weights_n_dic)"
   ]
  },
  {
   "cell_type": "code",
   "execution_count": 95,
   "metadata": {
    "collapsed": false
   },
   "outputs": [],
   "source": [
    "#nx.edge_betweenness_centrality(G, normalized=False)"
   ]
  },
  {
   "cell_type": "code",
   "execution_count": 97,
   "metadata": {
    "collapsed": false
   },
   "outputs": [],
   "source": [
    "# Sparsify the graph if the weight are too small\n",
    "average_weight = np.mean(weights)/np.max(weights)\n",
    "for u,v,a in G.edges(data=True):\n",
    "    if a['weight']<average_weight*5:\n",
    "        G.remove_edge(u,v)"
   ]
  },
  {
   "cell_type": "code",
   "execution_count": 98,
   "metadata": {
    "collapsed": false
   },
   "outputs": [],
   "source": [
    "# Write the graph to a json file\n",
    "from networkx.readwrite import json_graph\n",
    "datag = json_graph.node_link_data(G)\n",
    "import json\n",
    "s = json.dumps(datag)\n",
    "datag['links'] = [\n",
    "        {\n",
    "            'source': datag['nodes'][link['source']]['id'],\n",
    "            'target': datag['nodes'][link['target']]['id'],\n",
    "            'weight': link['weight']\n",
    "        }\n",
    "        for link in datag['links']]\n",
    "s = json.dumps(datag)\n",
    "with open(\"viz/graph.json\", \"w\") as f:\n",
    "    f.write(s)"
   ]
  },
  {
   "cell_type": "code",
   "execution_count": null,
   "metadata": {
    "collapsed": true
   },
   "outputs": [],
   "source": [
    "s"
   ]
  },
  {
   "cell_type": "code",
   "execution_count": null,
   "metadata": {
    "collapsed": false
   },
   "outputs": [],
   "source": [
    "G.edges(data='weight')"
   ]
  },
  {
   "cell_type": "code",
   "execution_count": 26,
   "metadata": {
    "collapsed": false
   },
   "outputs": [
    {
     "data": {
      "text/plain": [
       "{'2016': 1,\n",
       " '20h55': 1,\n",
       " 'ans': 2,\n",
       " 'après': 2,\n",
       " 'arestrup': 1,\n",
       " 'aussi': 2,\n",
       " 'avant': 2,\n",
       " 'baron': 3,\n",
       " 'baronnoir': 2,\n",
       " 'bien': 2,\n",
       " 'bon': 2,\n",
       " 'bonne': 2,\n",
       " 'bravo': 3,\n",
       " 'canal': 3,\n",
       " 'canalplus': 3,\n",
       " 'cards': 3,\n",
       " 'casting': 1,\n",
       " 'chance': 0,\n",
       " 'coffret': 0,\n",
       " 'coffrets': 0,\n",
       " 'comme': 2,\n",
       " 'contre': 2,\n",
       " 'création': 1,\n",
       " 'demain': 1,\n",
       " 'demande': 2,\n",
       " 'deux': 2,\n",
       " 'diffusée': 0,\n",
       " 'dit': 2,\n",
       " 'donc': 2,\n",
       " 'dray': 3,\n",
       " 'dunkerque': 3,\n",
       " 'dvd': 3,\n",
       " 'déjà': 2,\n",
       " 'ebenzekri': 3,\n",
       " 'encore': 2,\n",
       " 'entre': 2,\n",
       " 'faire': 2,\n",
       " 'fait': 2,\n",
       " 'fiction': 1,\n",
       " 'follow': 1,\n",
       " 'france': 3,\n",
       " 'français': 1,\n",
       " 'française': 1,\n",
       " 'françois': 7,\n",
       " 'février': 1,\n",
       " 'gagner': 0,\n",
       " 'hollande': 2,\n",
       " 'house': 3,\n",
       " 'houseofcards': 6,\n",
       " 'ils': 2,\n",
       " 'jeu': 2,\n",
       " 'jeudi': 0,\n",
       " 'julien': 3,\n",
       " 'kad': 3,\n",
       " 'kadmerad': 4,\n",
       " 'loi': 2,\n",
       " 'lundi': 1,\n",
       " 'mal': 2,\n",
       " 'marseille': 3,\n",
       " 'merad': 3,\n",
       " 'merci': 2,\n",
       " 'mis': 0,\n",
       " 'niels': 1,\n",
       " 'noir': 3,\n",
       " 'nouvelle': 1,\n",
       " 'originale': 1,\n",
       " 'paris': 3,\n",
       " 'plus': 2,\n",
       " 'politique': 1,\n",
       " 'politiques': 2,\n",
       " 'première': 1,\n",
       " 'président': 2,\n",
       " 'quand': 2,\n",
       " 'regarder': 3,\n",
       " 'rickwaert': 2,\n",
       " 'réalité': 2,\n",
       " 'saison': 0,\n",
       " 'serie': 3,\n",
       " 'seriescanalplus': 3,\n",
       " 'soir': 1,\n",
       " 'sort': 0,\n",
       " 'suite': 2,\n",
       " 'série': 1,\n",
       " 'séries': 1,\n",
       " 'tenter': 0,\n",
       " 'top': 3,\n",
       " 'tournage': 1,\n",
       " 'tous': 2,\n",
       " 'tout': 2,\n",
       " 'travail': 2,\n",
       " 'trop': 2,\n",
       " 'très': 2,\n",
       " 'via': 3,\n",
       " 'voir': 2,\n",
       " 'vrai': 2,\n",
       " 'vraiment': 2,\n",
       " 'yn6wxjbfgz': 5,\n",
       " 'épisode': 3,\n",
       " 'épisodes': 1,\n",
       " 'être': 2}"
      ]
     },
     "execution_count": 26,
     "metadata": {},
     "output_type": "execute_result"
    }
   ],
   "source": [
    "clusterDic"
   ]
  },
  {
   "cell_type": "code",
   "execution_count": null,
   "metadata": {
    "collapsed": true
   },
   "outputs": [],
   "source": []
  }
 ],
 "metadata": {
  "kernelspec": {
   "display_name": "Python 3",
   "language": "python",
   "name": "python3"
  },
  "language_info": {
   "codemirror_mode": {
    "name": "ipython",
    "version": 3
   },
   "file_extension": ".py",
   "mimetype": "text/x-python",
   "name": "python",
   "nbconvert_exporter": "python",
   "pygments_lexer": "ipython3",
   "version": "3.5.2"
  }
 },
 "nbformat": 4,
 "nbformat_minor": 1
}
