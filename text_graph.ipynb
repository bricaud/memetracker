{
 "cells": [
  {
   "cell_type": "code",
   "execution_count": 1,
   "metadata": {
    "collapsed": true
   },
   "outputs": [],
   "source": [
    "## Creating a graph from text data"
   ]
  },
  {
   "cell_type": "markdown",
   "metadata": {},
   "source": [
    "### Loading the text data"
   ]
  },
  {
   "cell_type": "code",
   "execution_count": 27,
   "metadata": {
    "collapsed": true
   },
   "outputs": [],
   "source": [
    "import pandas as pd"
   ]
  },
  {
   "cell_type": "code",
   "execution_count": 28,
   "metadata": {
    "collapsed": false
   },
   "outputs": [],
   "source": [
    "graph_data_path = '/home/benjamin/Documents/memetracker/Data/graph/'\n",
    "pickle_data_path = '/home/benjamin/Documents/memetracker/Data/pickle/'\n",
    "series_name = 'baron_noir'\n",
    "pickle_file = pickle_data_path+series_name+'_texts'+'.pkl'\n",
    "vocab_file = pickle_data_path+series_name+'_vocab_bow'+'.pkl'\n",
    "tfidf_file = pickle_data_path+series_name+'_vocab_tfidf'+'.pkl'"
   ]
  },
  {
   "cell_type": "code",
   "execution_count": 29,
   "metadata": {
    "collapsed": true
   },
   "outputs": [],
   "source": [
    "text_data = pd.read_pickle(pickle_file)\n",
    "vocab_data = pd.read_pickle(vocab_file)\n",
    "tfidf_data = pd.read_pickle(tfidf_file)"
   ]
  },
  {
   "cell_type": "code",
   "execution_count": 30,
   "metadata": {
    "collapsed": true
   },
   "outputs": [],
   "source": [
    "# create the set of most used words\n",
    "nb_words = 100\n",
    "word_set = set(tfidf_data.words[0:nb_words])"
   ]
  },
  {
   "cell_type": "code",
   "execution_count": 31,
   "metadata": {
    "collapsed": false
   },
   "outputs": [
    {
     "data": {
      "text/plain": [
       "{'2016',\n",
       " '20h55',\n",
       " 'ans',\n",
       " 'après',\n",
       " 'arestrup',\n",
       " 'aussi',\n",
       " 'avant',\n",
       " 'baron',\n",
       " 'baronnoir',\n",
       " 'bien',\n",
       " 'bon',\n",
       " 'bonne',\n",
       " 'bosso',\n",
       " 'bravo',\n",
       " 'canal',\n",
       " 'canalplus',\n",
       " 'cards',\n",
       " 'casting',\n",
       " 'chance',\n",
       " 'coffret',\n",
       " 'coffrets',\n",
       " 'comme',\n",
       " 'contre',\n",
       " 'création',\n",
       " 'demain',\n",
       " 'demande',\n",
       " 'deux',\n",
       " 'diffusée',\n",
       " 'dit',\n",
       " 'dray',\n",
       " 'dunkerque',\n",
       " 'dvd',\n",
       " 'déjà',\n",
       " 'ebenzekri',\n",
       " 'encore',\n",
       " 'entre',\n",
       " 'faire',\n",
       " 'fait',\n",
       " 'fiction',\n",
       " 'follow',\n",
       " 'fort',\n",
       " 'france',\n",
       " 'français',\n",
       " 'française',\n",
       " 'françois',\n",
       " 'février',\n",
       " 'gagner',\n",
       " 'hollande',\n",
       " 'house',\n",
       " 'houseofcards',\n",
       " 'ils',\n",
       " 'jeu',\n",
       " 'jeudi',\n",
       " 'julien',\n",
       " 'kad',\n",
       " 'kadmerad',\n",
       " 'loi',\n",
       " 'lundi',\n",
       " 'mal',\n",
       " 'marseille',\n",
       " 'marseillelefilm',\n",
       " 'merad',\n",
       " 'merci',\n",
       " 'mis',\n",
       " 'niels',\n",
       " 'noir',\n",
       " 'nouvelle',\n",
       " 'originale',\n",
       " 'paris',\n",
       " 'plus',\n",
       " 'politique',\n",
       " 'politiques',\n",
       " 'président',\n",
       " 'quand',\n",
       " 'regarder',\n",
       " 'rickwaert',\n",
       " 'réalité',\n",
       " 'saison',\n",
       " 'serie',\n",
       " 'seriescanalplus',\n",
       " 'soir',\n",
       " 'sort',\n",
       " 'série',\n",
       " 'séries',\n",
       " 'tenter',\n",
       " 'tirage',\n",
       " 'top',\n",
       " 'tournage',\n",
       " 'tous',\n",
       " 'tout',\n",
       " 'trop',\n",
       " 'très',\n",
       " 'téléchargements',\n",
       " 'via',\n",
       " 'voir',\n",
       " 'vrai',\n",
       " 'vraiment',\n",
       " 'épisode',\n",
       " 'épisodes',\n",
       " 'être'}"
      ]
     },
     "execution_count": 31,
     "metadata": {},
     "output_type": "execute_result"
    }
   ],
   "source": [
    "word_set"
   ]
  },
  {
   "cell_type": "markdown",
   "metadata": {},
   "source": [
    "### Creating the graph"
   ]
  },
  {
   "cell_type": "code",
   "execution_count": 32,
   "metadata": {
    "collapsed": false
   },
   "outputs": [],
   "source": [
    "import networkx as nx\n",
    "import matplotlib.pyplot as plt"
   ]
  },
  {
   "cell_type": "code",
   "execution_count": 33,
   "metadata": {
    "collapsed": false
   },
   "outputs": [],
   "source": [
    "G = nx.Graph()"
   ]
  },
  {
   "cell_type": "code",
   "execution_count": 34,
   "metadata": {
    "collapsed": true
   },
   "outputs": [],
   "source": [
    "# Add the nodes\n",
    "G.add_nodes_from(word_set)"
   ]
  },
  {
   "cell_type": "code",
   "execution_count": 35,
   "metadata": {
    "collapsed": true
   },
   "outputs": [],
   "source": [
    "import itertools"
   ]
  },
  {
   "cell_type": "code",
   "execution_count": 36,
   "metadata": {
    "collapsed": false
   },
   "outputs": [],
   "source": [
    "# Connect the nodes if they appear in the same text\n",
    "# the weight is proportional to the number of co-occurences\n",
    "for text in text_data.text:\n",
    "    common_words = set(str(text).split())&word_set\n",
    "    edge_list = list(itertools.combinations(common_words, 2))\n",
    "    #G.add_edges_from(edge_list)\n",
    "    for edge in edge_list:\n",
    "        if G.has_edge(edge[0],edge[1]):\n",
    "            # we added this one before, just increase the weight by one\n",
    "            G[edge[0]][edge[1]]['weight'] += 1\n",
    "        else:\n",
    "            # new edge. add with weight=1\n",
    "            G.add_edge(edge[0], edge[1], weight=1)"
   ]
  },
  {
   "cell_type": "code",
   "execution_count": 37,
   "metadata": {
    "collapsed": false
   },
   "outputs": [
    {
     "data": {
      "image/png": "[encoded data removed]",
      "text/plain": [
       "<matplotlib.figure.Figure at 0x7ff4cff67f60>"
      ]
     },
     "metadata": {},
     "output_type": "display_data"
    }
   ],
   "source": [
    "nx.draw_spring(G)\n",
    "plt.show()"
   ]
  },
  {
   "cell_type": "markdown",
   "metadata": {},
   "source": [
    "### Community detection"
   ]
  },
  {
   "cell_type": "code",
   "execution_count": 38,
   "metadata": {
    "collapsed": false
   },
   "outputs": [],
   "source": [
    "import community"
   ]
  },
  {
   "cell_type": "code",
   "execution_count": 39,
   "metadata": {
    "collapsed": true
   },
   "outputs": [],
   "source": [
    "#first compute the best partition\n",
    "clusterDic = community.best_partition(G)"
   ]
  },
  {
   "cell_type": "code",
   "execution_count": 40,
   "metadata": {
    "collapsed": false
   },
   "outputs": [
    {
     "data": {
      "image/png": "[encoded data removed]",
      "text/plain": [
       "<matplotlib.figure.Figure at 0x7ff4d0449128>"
      ]
     },
     "metadata": {},
     "output_type": "display_data"
    }
   ],
   "source": [
    "#drawing\n",
    "partition = clusterDic\n",
    "size = float(len(set(partition.values())))\n",
    "pos = nx.spring_layout(G)\n",
    "count = 0.\n",
    "for com in set(partition.values()) :\n",
    "    count = count + 1.\n",
    "    list_nodes = [nodes for nodes in partition.keys()\n",
    "                                if partition[nodes] == com]\n",
    "    nx.draw_networkx_nodes(G, pos, list_nodes, node_size = 20,\n",
    "                                node_color = str(count / size))\n",
    "\n",
    "\n",
    "nx.draw_networkx_edges(G,pos, alpha=0.5)\n",
    "plt.show()"
   ]
  },
  {
   "cell_type": "code",
   "execution_count": 41,
   "metadata": {
    "collapsed": false
   },
   "outputs": [],
   "source": [
    "nx.set_node_attributes(G,'cluster',clusterDic)"
   ]
  },
  {
   "cell_type": "markdown",
   "metadata": {},
   "source": [
    "### Thresholding the edges"
   ]
  },
  {
   "cell_type": "code",
   "execution_count": 42,
   "metadata": {
    "collapsed": false
   },
   "outputs": [],
   "source": [
    "# Extracting the edge information\n",
    "#sum_weight = 0\n",
    "#n_edges = 0\n",
    "#for u,v,a in G.edges(data=True):\n",
    "#    sum_weight+=a['weight']\n",
    "#    n_edges+=1\n",
    "#average_weight = sum_weight*1.0/n_edges"
   ]
  },
  {
   "cell_type": "code",
   "execution_count": 43,
   "metadata": {
    "collapsed": false
   },
   "outputs": [],
   "source": [
    "# Node properties: degree and centrality\n",
    "degreeDic = G.degree(weight='weight')\n",
    "nx.set_node_attributes(G,'degree',degreeDic)\n",
    "bcDic = nx.betweenness_centrality(G)\n",
    "nx.set_node_attributes(G,'bCentrality',bcDic)"
   ]
  },
  {
   "cell_type": "code",
   "execution_count": 44,
   "metadata": {
    "collapsed": false
   },
   "outputs": [],
   "source": [
    "# Rescaling edge weights\n",
    "n1,n2,weights = zip(*G.edges(data='weight'))\n",
    "edges_id=list(zip(n1,n2))"
   ]
  },
  {
   "cell_type": "code",
   "execution_count": 45,
   "metadata": {
    "collapsed": false
   },
   "outputs": [
    {
     "name": "stdout",
     "output_type": "stream",
     "text": [
      "mean weight: 137.125793771, max weight: 2486\n"
     ]
    }
   ],
   "source": [
    "import numpy as np\n",
    "print('mean weight: '+str(np.mean(weights))+', max weight: '+str(np.max(weights)))"
   ]
  },
  {
   "cell_type": "code",
   "execution_count": 46,
   "metadata": {
    "collapsed": false
   },
   "outputs": [],
   "source": [
    "weights_n=weights/np.max(weights)\n",
    "weights_n_dic=dict(zip(edges_id,weights_n)) \n",
    "nx.set_edge_attributes(G,'weight',weights_n_dic)"
   ]
  },
  {
   "cell_type": "code",
   "execution_count": 47,
   "metadata": {
    "collapsed": false
   },
   "outputs": [],
   "source": [
    "#nx.edge_betweenness_centrality(G, normalized=False)"
   ]
  },
  {
   "cell_type": "code",
   "execution_count": 48,
   "metadata": {
    "collapsed": false
   },
   "outputs": [],
   "source": [
    "# Sparsify the graph if the weight are too small\n",
    "average_weight = np.mean(weights)/np.max(weights)\n",
    "for u,v,a in G.edges(data=True):\n",
    "    if a['weight']<average_weight*5:\n",
    "        G.remove_edge(u,v)"
   ]
  },
  {
   "cell_type": "code",
   "execution_count": 49,
   "metadata": {
    "collapsed": false
   },
   "outputs": [],
   "source": [
    "# Write the graph to a json file\n",
    "from networkx.readwrite import json_graph\n",
    "datag = json_graph.node_link_data(G)\n",
    "import json\n",
    "s = json.dumps(datag)\n",
    "datag['links'] = [\n",
    "        {\n",
    "            'source': datag['nodes'][link['source']]['id'],\n",
    "            'target': datag['nodes'][link['target']]['id'],\n",
    "            'weight': link['weight']\n",
    "        }\n",
    "        for link in datag['links']]\n",
    "s = json.dumps(datag)\n",
    "with open(\"viz/graph.json\", \"w\") as f:\n",
    "    f.write(s)"
   ]
  },
  {
   "cell_type": "code",
   "execution_count": 25,
   "metadata": {
    "collapsed": false
   },
   "outputs": [
    {
     "data": {
      "text/plain": [
       "[('série', 'bien', 0.38778747026169708),\n",
       " ('série', 'tout', 0.39175257731958762),\n",
       " ('série', 'est', 0.8977002379064235),\n",
       " ('série', 'nouvelle', 0.55987311657414751),\n",
       " ('série', 'aussi', 0.44607454401268837),\n",
       " ('série', 'fait', 0.39849325931800161),\n",
       " ('série', 'politique', 0.98572561459159402),\n",
       " ('série', 'plus', 0.55154639175257736),\n",
       " ('série', 'très', 0.40325138778747027),\n",
       " ('série', 'faire', 0.34892942109436953),\n",
       " ('série', 'il', 0.49960348929421095),\n",
       " ('série', 'noir', 0.40007930214115783),\n",
       " ('série', 'comme', 0.42030134813639969),\n",
       " ('série', 'un', 0.84377478191911182),\n",
       " ('série', 'deux', 0.37232355273592388),\n",
       " ('série', 'entre', 0.36915146708961144),\n",
       " ('bien', 'tout', 0.35646312450436163),\n",
       " ('bien', 'est', 0.52854877081681206),\n",
       " ('bien', 'fait', 0.35567010309278352),\n",
       " ('bien', 'plus', 0.43893735130848532),\n",
       " ('bien', 'il', 0.40999206978588421),\n",
       " ('bien', 'comme', 0.32870737509912767),\n",
       " ('bien', 'un', 0.51784298176050758),\n",
       " ('tout', 'est', 0.61062648691514676),\n",
       " ('tout', 'fait', 0.39492466296590006),\n",
       " ('tout', 'politique', 0.36003172085646312),\n",
       " ('tout', 'plus', 0.54877081681205397),\n",
       " ('tout', 'très', 0.34972244250594764),\n",
       " ('tout', 'faire', 0.33227597145122917),\n",
       " ('tout', 'il', 0.44250594766058682),\n",
       " ('tout', 'comme', 0.35487708168120541),\n",
       " ('tout', 'un', 0.55789056304520224),\n",
       " ('est', 'nouvelle', 0.38461538461538464),\n",
       " ('est', 'aussi', 0.50991276764472637),\n",
       " ('est', 'un', 1.0),\n",
       " ('est', 'politique', 0.55789056304520224),\n",
       " ('est', 'tous', 0.35051546391752575),\n",
       " ('est', 'avant', 0.35963521015067407),\n",
       " ('est', 'plus', 0.75178429817605075),\n",
       " ('est', 'très', 0.49524187153053134),\n",
       " ('est', 'faire', 0.45915939730372718),\n",
       " ('est', 'noir', 0.37985725614591592),\n",
       " ('est', 'encore', 0.3858049167327518),\n",
       " ('est', 'il', 0.68715305313243458),\n",
       " ('est', 'comme', 0.5317208564631245),\n",
       " ('est', 'fait', 0.53409992069785883),\n",
       " ('est', 'deux', 0.50674068199841393),\n",
       " ('est', 'être', 0.36320380650277556),\n",
       " ('est', 'entre', 0.42981760507533706),\n",
       " ('nouvelle', 'un', 0.40483743061062649),\n",
       " ('un', 'aussi', 0.5237906423473434),\n",
       " ('un', 'politique', 0.63243457573354478),\n",
       " ('un', 'tous', 0.35923869944488501),\n",
       " ('un', 'plus', 0.77002379064234738),\n",
       " ('un', 'très', 0.51467089611419503),\n",
       " ('un', 'faire', 0.5),\n",
       " ('un', 'encore', 0.40166534496431405),\n",
       " ('un', 'il', 0.72640761300555112),\n",
       " ('un', 'contre', 0.36835844567803333),\n",
       " ('un', 'noir', 0.42307692307692307),\n",
       " ('un', 'comme', 0.55630452022204602),\n",
       " ('un', 'fait', 0.59357652656621729),\n",
       " ('un', 'deux', 0.47898493259318004),\n",
       " ('un', 'être', 0.38421887390959558),\n",
       " ('un', 'entre', 0.44210943695479776),\n",
       " ('politique', 'plus', 0.44726407613005553),\n",
       " ('politique', 'il', 0.41633624107850914),\n",
       " ('politique', 'aussi', 0.36796193497224428),\n",
       " ('plus', 'aussi', 0.43378271213322761),\n",
       " ('plus', 'très', 0.41038858049167326),\n",
       " ('plus', 'faire', 0.3858049167327518),\n",
       " ('plus', 'il', 0.58604282315622525),\n",
       " ('plus', 'comme', 0.42783505154639173),\n",
       " ('plus', 'fait', 0.47065820777160983),\n",
       " ('plus', 'deux', 0.40206185567010311),\n",
       " ('plus', 'être', 0.33386201427438539),\n",
       " ('plus', 'entre', 0.35448057097541635),\n",
       " ('très', 'il', 0.38897700237906424),\n",
       " ('très', 'fait', 0.33346550356859633),\n",
       " ('faire', 'fait', 0.33029341792228389),\n",
       " ('faire', 'il', 0.38342585249801747),\n",
       " ('faire', 'comme', 0.34536082474226804),\n",
       " ('noir', 'baron', 0.42466296590007929),\n",
       " ('aussi', 'il', 0.4254559873116574),\n",
       " ('il', 'comme', 0.41395717684377475),\n",
       " ('il', 'fait', 0.47383029341792227),\n",
       " ('il', 'deux', 0.37628865979381443),\n",
       " ('fait', 'comme', 0.35487708168120541)]"
      ]
     },
     "execution_count": 25,
     "metadata": {},
     "output_type": "execute_result"
    }
   ],
   "source": [
    "G.edges(data='weight')"
   ]
  },
  {
   "cell_type": "code",
   "execution_count": null,
   "metadata": {
    "collapsed": false
   },
   "outputs": [],
   "source": [
    "clusterDic"
   ]
  },
  {
   "cell_type": "code",
   "execution_count": null,
   "metadata": {
    "collapsed": true
   },
   "outputs": [],
   "source": []
  }
 ],
 "metadata": {
  "kernelspec": {
   "display_name": "Python 3",
   "language": "python",
   "name": "python3"
  },
  "language_info": {
   "codemirror_mode": {
    "name": "ipython",
    "version": 3
   },
   "file_extension": ".py",
   "mimetype": "text/x-python",
   "name": "python",
   "nbconvert_exporter": "python",
   "pygments_lexer": "ipython3",
   "version": "3.5.2"
  }
 },
 "nbformat": 4,
 "nbformat_minor": 1
}
